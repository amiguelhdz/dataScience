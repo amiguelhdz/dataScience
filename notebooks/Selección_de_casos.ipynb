{
 "cells": [
  {
   "cell_type": "markdown",
   "id": "bb9f69ad",
   "metadata": {},
   "source": [
    "# Selección de casos de análisis\n",
    "\n",
    "El conjunto de entrenamiento está formado por 9,446 imagenes adquiridas de 44 pacientes. El archivo TrainingSet_20aimVO.csv contiene el nombre de cada una de las imagenes y la clase a la que pertenece.\n",
    "\n",
    "Las clases contempladas son 4: \n",
    "- Squamous epithelium (tejido saludable)\n",
    "- Intestinal Metaplasia (tejido del esofajo que se ha transformado en tejido intestinal)\n",
    "- Gastric Metaplasia (tejido gastrico cercano a la unión con el esófago)\n",
    "- Displasya/Cancer (celulas pre-cancerosas/Cáncer)\n",
    "\n",
    "Para nuestro clasificador binomial utilizaremos solamente las imagenes de tejido sano y de células pre-cancerígenas o cancerígenas.\n",
    "\n",
    "El presente Notebook crea un subconjunto de imágenes reducidas a la mitad del tamaño, con los casos que usaremos en el clasificador con Perceptrón."
   ]
  },
  {
   "cell_type": "code",
   "execution_count": 1,
   "id": "4ebcd4b9",
   "metadata": {
    "ExecuteTime": {
     "end_time": "2024-11-07T00:11:08.926699Z",
     "start_time": "2024-11-07T00:11:03.101613Z"
    }
   },
   "outputs": [],
   "source": [
    "# Librerias\n",
    "import warnings\n",
    "warnings.filterwarnings(action='ignore')\n",
    "import os\n",
    "import random\n",
    "import numpy as np\n",
    "import pandas as pd\n",
    "from skimage.transform import rescale\n",
    "from skimage import io\n",
    "import matplotlib.pyplot as plt\n",
    "from matplotlib import image\n",
    "\n",
    "%matplotlib inline"
   ]
  },
  {
   "cell_type": "code",
   "execution_count": 2,
   "id": "adc6f389",
   "metadata": {
    "ExecuteTime": {
     "end_time": "2024-11-07T00:12:27.272465Z",
     "start_time": "2024-11-07T00:12:27.258465Z"
    }
   },
   "outputs": [],
   "source": [
    "pathDatos = os.path.join(os.path.pardir,'datos')"
   ]
  },
  {
   "cell_type": "code",
   "execution_count": 3,
   "id": "bd3f8b95",
   "metadata": {
    "ExecuteTime": {
     "end_time": "2024-11-07T00:12:33.422380Z",
     "start_time": "2024-11-07T00:12:33.397385Z"
    }
   },
   "outputs": [
    {
     "data": {
      "text/plain": [
       "'..\\\\datos'"
      ]
     },
     "execution_count": 3,
     "metadata": {},
     "output_type": "execute_result"
    }
   ],
   "source": [
    "pathDatos"
   ]
  },
  {
   "cell_type": "code",
   "execution_count": 4,
   "id": "b26d4e98",
   "metadata": {
    "ExecuteTime": {
     "end_time": "2024-11-07T00:12:43.128401Z",
     "start_time": "2024-11-07T00:12:43.061706Z"
    }
   },
   "outputs": [],
   "source": [
    "traindf = pd.read_csv(os.path.join(pathDatos,'TrainingSet_20aimVO.csv'))"
   ]
  },
  {
   "cell_type": "code",
   "execution_count": 5,
   "id": "68f21fa0",
   "metadata": {
    "ExecuteTime": {
     "end_time": "2024-11-07T00:13:09.653144Z",
     "start_time": "2024-11-07T00:13:09.600767Z"
    }
   },
   "outputs": [
    {
     "data": {
      "text/html": [
       "<div>\n",
       "<style scoped>\n",
       "    .dataframe tbody tr th:only-of-type {\n",
       "        vertical-align: middle;\n",
       "    }\n",
       "\n",
       "    .dataframe tbody tr th {\n",
       "        vertical-align: top;\n",
       "    }\n",
       "\n",
       "    .dataframe thead th {\n",
       "        text-align: right;\n",
       "    }\n",
       "</style>\n",
       "<table border=\"1\" class=\"dataframe\">\n",
       "  <thead>\n",
       "    <tr style=\"text-align: right;\">\n",
       "      <th></th>\n",
       "      <th>image_filename</th>\n",
       "      <th>class_number</th>\n",
       "    </tr>\n",
       "  </thead>\n",
       "  <tbody>\n",
       "    <tr>\n",
       "      <th>0</th>\n",
       "      <td>im_4_0.png</td>\n",
       "      <td>0</td>\n",
       "    </tr>\n",
       "    <tr>\n",
       "      <th>1</th>\n",
       "      <td>im_21_0.png</td>\n",
       "      <td>0</td>\n",
       "    </tr>\n",
       "    <tr>\n",
       "      <th>2</th>\n",
       "      <td>im_9_0.png</td>\n",
       "      <td>0</td>\n",
       "    </tr>\n",
       "    <tr>\n",
       "      <th>3</th>\n",
       "      <td>im_8_0.png</td>\n",
       "      <td>0</td>\n",
       "    </tr>\n",
       "    <tr>\n",
       "      <th>4</th>\n",
       "      <td>im_15_0.png</td>\n",
       "      <td>0</td>\n",
       "    </tr>\n",
       "  </tbody>\n",
       "</table>\n",
       "</div>"
      ],
      "text/plain": [
       "  image_filename  class_number\n",
       "0     im_4_0.png             0\n",
       "1    im_21_0.png             0\n",
       "2     im_9_0.png             0\n",
       "3     im_8_0.png             0\n",
       "4    im_15_0.png             0"
      ]
     },
     "execution_count": 5,
     "metadata": {},
     "output_type": "execute_result"
    }
   ],
   "source": [
    "traindf.head()"
   ]
  },
  {
   "cell_type": "code",
   "execution_count": 6,
   "id": "80cf1193",
   "metadata": {
    "ExecuteTime": {
     "end_time": "2024-11-07T00:13:37.645461Z",
     "start_time": "2024-11-07T00:13:37.616232Z"
    }
   },
   "outputs": [
    {
     "data": {
      "text/plain": [
       "class_number\n",
       "3    3594\n",
       "1    3177\n",
       "0    1469\n",
       "2    1206\n",
       "Name: count, dtype: int64"
      ]
     },
     "execution_count": 6,
     "metadata": {},
     "output_type": "execute_result"
    }
   ],
   "source": [
    "traindf.class_number.value_counts()"
   ]
  },
  {
   "cell_type": "code",
   "execution_count": null,
   "id": "d890261a",
   "metadata": {
    "ExecuteTime": {
     "end_time": "2024-11-06T16:36:03.779347Z",
     "start_time": "2024-11-06T16:36:03.766214Z"
    }
   },
   "outputs": [],
   "source": [
    "traindf.shape"
   ]
  },
  {
   "cell_type": "markdown",
   "id": "c28d0620",
   "metadata": {},
   "source": [
    "## Seleccionamos las imagenes de tejido sano y tejido con cancer"
   ]
  },
  {
   "cell_type": "code",
   "execution_count": null,
   "id": "ac1c63c5",
   "metadata": {
    "ExecuteTime": {
     "end_time": "2024-11-06T16:36:03.794627Z",
     "start_time": "2024-11-06T16:36:03.782236Z"
    }
   },
   "outputs": [],
   "source": [
    "df = traindf[(traindf.class_number == 0) |(traindf.class_number == 3 )]"
   ]
  },
  {
   "cell_type": "code",
   "execution_count": null,
   "id": "e8d707eb",
   "metadata": {
    "ExecuteTime": {
     "end_time": "2024-11-06T16:36:03.810035Z",
     "start_time": "2024-11-06T16:36:03.796511Z"
    }
   },
   "outputs": [],
   "source": [
    "df = df.replace(3,1)\n",
    "df.shape"
   ]
  },
  {
   "cell_type": "code",
   "execution_count": null,
   "id": "f7ea5981",
   "metadata": {
    "ExecuteTime": {
     "end_time": "2024-11-06T16:36:03.824809Z",
     "start_time": "2024-11-06T16:36:03.811809Z"
    }
   },
   "outputs": [],
   "source": [
    "df.class_number.value_counts()"
   ]
  },
  {
   "cell_type": "code",
   "execution_count": null,
   "id": "7440adc3",
   "metadata": {
    "ExecuteTime": {
     "end_time": "2024-11-06T16:36:03.840203Z",
     "start_time": "2024-11-06T16:36:03.826809Z"
    }
   },
   "outputs": [],
   "source": [
    "df.to_csv(os.path.join(pathDatos,'ClasesImagenes.csv'), index=False)"
   ]
  },
  {
   "cell_type": "markdown",
   "id": "6de3439b",
   "metadata": {},
   "source": [
    "## Exploramos el formato de las imagenes mediante un ejemplo\n",
    "\n",
    "Cuando cargamos una imagen a color, el objeto resultante es una matriz de tres dimensiones, que representa de manera eficiente el nivel de cada pixel entre 0 y 255 (256 niveles discretos de color son suficientes para la percepción del ojo humano)"
   ]
  },
  {
   "cell_type": "code",
   "execution_count": null,
   "id": "93d86dc5",
   "metadata": {
    "ExecuteTime": {
     "end_time": "2024-11-06T16:36:03.855375Z",
     "start_time": "2024-11-06T16:36:03.841809Z"
    }
   },
   "outputs": [],
   "source": [
    "datos = df"
   ]
  },
  {
   "cell_type": "code",
   "execution_count": null,
   "id": "98483851",
   "metadata": {
    "ExecuteTime": {
     "end_time": "2024-11-06T16:36:03.871188Z",
     "start_time": "2024-11-06T16:36:03.857373Z"
    }
   },
   "outputs": [],
   "source": [
    "pathImages = os.path.join(os.path.pardir,'datos','TrainingSetImagesDir')"
   ]
  },
  {
   "cell_type": "code",
   "execution_count": null,
   "id": "66fe08ce",
   "metadata": {
    "ExecuteTime": {
     "end_time": "2024-11-06T16:36:03.902504Z",
     "start_time": "2024-11-06T16:36:03.872226Z"
    }
   },
   "outputs": [],
   "source": [
    "# Filtramos las imágenes de las clases 0 y 3, tejido sano y cancerígenas\n",
    "datos['image_filename'] = df['image_filename'].apply(lambda row: [os.path.join(pathImages, row)])"
   ]
  },
  {
   "cell_type": "code",
   "execution_count": null,
   "id": "09d36f9b",
   "metadata": {
    "ExecuteTime": {
     "end_time": "2024-11-06T16:36:03.917365Z",
     "start_time": "2024-11-06T16:36:03.905338Z"
    }
   },
   "outputs": [],
   "source": [
    "datos['image_filename'] = df['image_filename'].str.get(0)"
   ]
  },
  {
   "cell_type": "code",
   "execution_count": null,
   "id": "cb17ed6f",
   "metadata": {
    "ExecuteTime": {
     "end_time": "2024-11-06T16:36:03.933436Z",
     "start_time": "2024-11-06T16:36:03.919414Z"
    }
   },
   "outputs": [],
   "source": [
    "datos.head()"
   ]
  },
  {
   "cell_type": "code",
   "execution_count": null,
   "id": "05a6aaae",
   "metadata": {
    "ExecuteTime": {
     "end_time": "2024-11-06T16:36:03.949447Z",
     "start_time": "2024-11-06T16:36:03.935337Z"
    }
   },
   "outputs": [],
   "source": [
    "datos['image_filename'][0]"
   ]
  },
  {
   "cell_type": "code",
   "execution_count": null,
   "id": "057498b9",
   "metadata": {
    "ExecuteTime": {
     "end_time": "2024-11-06T16:36:03.979534Z",
     "start_time": "2024-11-06T16:36:03.951340Z"
    }
   },
   "outputs": [],
   "source": [
    "imag1 = io.imread(datos['image_filename'][500])"
   ]
  },
  {
   "cell_type": "code",
   "execution_count": null,
   "id": "c6eb7a0a",
   "metadata": {
    "ExecuteTime": {
     "end_time": "2024-11-06T16:36:04.168325Z",
     "start_time": "2024-11-06T16:36:03.982537Z"
    }
   },
   "outputs": [],
   "source": [
    "io.imshow(imag1)\n",
    "plt.show()"
   ]
  },
  {
   "cell_type": "code",
   "execution_count": null,
   "id": "fe75932f",
   "metadata": {
    "ExecuteTime": {
     "end_time": "2024-11-06T16:36:04.183822Z",
     "start_time": "2024-11-06T16:36:04.170326Z"
    }
   },
   "outputs": [],
   "source": [
    "imag1.shape"
   ]
  },
  {
   "cell_type": "markdown",
   "id": "f57e4e0c",
   "metadata": {},
   "source": [
    "[How to Convert a Picture to Numbers». Accedido 12 de mayo de 2020.](https://e2eml.school/images_to_numbers.html).\n",
    "- Dimensión 0: 519 renglones de pixeles de arriba a abajo\n",
    "- Dimension 1: 521 columnas de pixeles de izquierda a derecha\n",
    "- Dimension 2: 3 Canales de color (rojo, verde y azul en ese orden) (RGB)"
   ]
  },
  {
   "cell_type": "markdown",
   "id": "79fb7a45",
   "metadata": {},
   "source": [
    "## Cargamos todas las imágenes de tejido sano y tejido con cáncer"
   ]
  },
  {
   "cell_type": "code",
   "execution_count": null,
   "id": "0c1220ab",
   "metadata": {
    "ExecuteTime": {
     "end_time": "2024-11-06T16:37:00.281641Z",
     "start_time": "2024-11-06T16:36:04.185626Z"
    }
   },
   "outputs": [],
   "source": [
    "img= [io.imread(i, as_gray=True) for i in datos['image_filename'][:]]"
   ]
  },
  {
   "cell_type": "code",
   "execution_count": null,
   "id": "4d1fa0a1",
   "metadata": {
    "ExecuteTime": {
     "end_time": "2024-11-06T16:37:00.285610Z",
     "start_time": "2024-11-06T16:37:00.285610Z"
    }
   },
   "outputs": [],
   "source": [
    "len(img)"
   ]
  },
  {
   "cell_type": "code",
   "execution_count": null,
   "id": "3471d495",
   "metadata": {
    "ExecuteTime": {
     "end_time": "2024-11-06T16:37:00.288610Z",
     "start_time": "2024-11-06T16:37:00.288610Z"
    }
   },
   "outputs": [],
   "source": [
    "img_scl = []\n",
    "for i in range (len(img)):\n",
    "    scl = rescale(img[i] , 1/2)\n",
    "    img_scl.append(scl)"
   ]
  },
  {
   "cell_type": "code",
   "execution_count": null,
   "id": "0d40d7d1",
   "metadata": {
    "ExecuteTime": {
     "end_time": "2024-11-06T16:32:09.353675Z",
     "start_time": "2024-11-06T16:32:08.609182Z"
    }
   },
   "outputs": [],
   "source": [
    "for i in range(len(img)):\n",
    "    image.imsave(os.path.join(pathDatos,'CarpetaImagenes', datos.image_filename[i]), img_scl[i])"
   ]
  },
  {
   "cell_type": "code",
   "execution_count": null,
   "id": "2942046e",
   "metadata": {},
   "outputs": [],
   "source": []
  }
 ],
 "metadata": {
  "kernelspec": {
   "display_name": "Python 3 (ipykernel)",
   "language": "python",
   "name": "python3"
  },
  "language_info": {
   "codemirror_mode": {
    "name": "ipython",
    "version": 3
   },
   "file_extension": ".py",
   "mimetype": "text/x-python",
   "name": "python",
   "nbconvert_exporter": "python",
   "pygments_lexer": "ipython3",
   "version": "3.9.12"
  },
  "nbTranslate": {
   "displayLangs": [
    "*"
   ],
   "hotkey": "alt-t",
   "langInMainMenu": true,
   "sourceLang": "en",
   "targetLang": "fr",
   "useGoogleTranslate": true
  },
  "toc": {
   "base_numbering": 1,
   "nav_menu": {},
   "number_sections": true,
   "sideBar": true,
   "skip_h1_title": false,
   "title_cell": "Table of Contents",
   "title_sidebar": "Contents",
   "toc_cell": false,
   "toc_position": {},
   "toc_section_display": true,
   "toc_window_display": false
  }
 },
 "nbformat": 4,
 "nbformat_minor": 5
}
