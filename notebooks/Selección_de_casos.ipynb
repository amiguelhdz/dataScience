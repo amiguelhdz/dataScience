{
 "cells": [
  {
   "cell_type": "markdown",
   "id": "bb9f69ad",
   "metadata": {},
   "source": [
    "# Selección de casos de análisis\n",
    "\n",
    "El conjunto de entrenamiento está formado por 9,446 imagenes adquiridas de 44 pacientes. El archivo TrainingSet_20aimVO.csv contiene el nombre de cada una de las imagenes y la clase a la que pertenece.\n",
    "\n",
    "Las clases contempladas son 4: \n",
    "- Squamous epithelium (tejido saludable)\n",
    "- Intestinal Metaplasia (tejido del esofajo que se ha transformado en tejido intestinal)\n",
    "- Gastric Metaplasia (tejido gastrico cercano a la unión con el esófago)\n",
    "- Displasya/Cancer (celulas pre-cancerosas/Cáncer)\n",
    "\n",
    "Para nuestro clasificador binomial utilizaremos solamente las imagenes de tejido sano y de células pre-cancerígenas o cancerígenas.\n",
    "\n",
    "El presente Notebook crea un subconjunto de imágenes reducidas a la mitad del tamaño, con los casos que usaremos en el clasificador con Perceptrón."
   ]
  },
  {
   "cell_type": "code",
   "execution_count": 1,
   "id": "4ebcd4b9",
   "metadata": {
    "ExecuteTime": {
     "end_time": "2024-11-07T00:11:08.926699Z",
     "start_time": "2024-11-07T00:11:03.101613Z"
    }
   },
   "outputs": [],
   "source": [
    "# Librerias\n",
    "import warnings\n",
    "warnings.filterwarnings(action='ignore')\n",
    "import os\n",
    "import random\n",
    "import numpy as np\n",
    "import pandas as pd\n",
    "from skimage.transform import rescale\n",
    "from skimage import io\n",
    "import matplotlib.pyplot as plt\n",
    "from matplotlib import image\n",
    "\n",
    "%matplotlib inline"
   ]
  },
  {
   "cell_type": "code",
   "execution_count": 2,
   "id": "adc6f389",
   "metadata": {
    "ExecuteTime": {
     "end_time": "2024-11-07T00:12:27.272465Z",
     "start_time": "2024-11-07T00:12:27.258465Z"
    }
   },
   "outputs": [],
   "source": [
    "pathDatos = os.path.join(os.path.pardir,'datos')"
   ]
  },
  {
   "cell_type": "code",
   "execution_count": 3,
   "id": "908524f6",
   "metadata": {
    "ExecuteTime": {
     "end_time": "2024-11-07T00:12:33.422380Z",
     "start_time": "2024-11-07T00:12:33.397385Z"
    }
   },
   "outputs": [
    {
     "data": {
      "text/plain": [
       "'..\\\\datos'"
      ]
     },
     "execution_count": 3,
     "metadata": {},
     "output_type": "execute_result"
    }
   ],
   "source": [
    "pathDatos"
   ]
  },
  {
   "cell_type": "code",
   "execution_count": 4,
   "id": "b26d4e98",
   "metadata": {
    "ExecuteTime": {
     "end_time": "2024-11-07T00:12:43.128401Z",
     "start_time": "2024-11-07T00:12:43.061706Z"
    }
   },
   "outputs": [],
   "source": [
    "traindf = pd.read_csv(os.path.join(pathDatos,'TrainingSet_20aimVO.csv'))"
   ]
  },
  {
   "cell_type": "code",
   "execution_count": 5,
   "id": "68f21fa0",
   "metadata": {
    "ExecuteTime": {
     "end_time": "2024-11-07T00:13:09.653144Z",
     "start_time": "2024-11-07T00:13:09.600767Z"
    }
   },
   "outputs": [
    {
     "data": {
      "text/html": [
       "<div>\n",
       "<style scoped>\n",
       "    .dataframe tbody tr th:only-of-type {\n",
       "        vertical-align: middle;\n",
       "    }\n",
       "\n",
       "    .dataframe tbody tr th {\n",
       "        vertical-align: top;\n",
       "    }\n",
       "\n",
       "    .dataframe thead th {\n",
       "        text-align: right;\n",
       "    }\n",
       "</style>\n",
       "<table border=\"1\" class=\"dataframe\">\n",
       "  <thead>\n",
       "    <tr style=\"text-align: right;\">\n",
       "      <th></th>\n",
       "      <th>image_filename</th>\n",
       "      <th>class_number</th>\n",
       "    </tr>\n",
       "  </thead>\n",
       "  <tbody>\n",
       "    <tr>\n",
       "      <th>0</th>\n",
       "      <td>im_4_0.png</td>\n",
       "      <td>0</td>\n",
       "    </tr>\n",
       "    <tr>\n",
       "      <th>1</th>\n",
       "      <td>im_21_0.png</td>\n",
       "      <td>0</td>\n",
       "    </tr>\n",
       "    <tr>\n",
       "      <th>2</th>\n",
       "      <td>im_9_0.png</td>\n",
       "      <td>0</td>\n",
       "    </tr>\n",
       "    <tr>\n",
       "      <th>3</th>\n",
       "      <td>im_8_0.png</td>\n",
       "      <td>0</td>\n",
       "    </tr>\n",
       "    <tr>\n",
       "      <th>4</th>\n",
       "      <td>im_15_0.png</td>\n",
       "      <td>0</td>\n",
       "    </tr>\n",
       "  </tbody>\n",
       "</table>\n",
       "</div>"
      ],
      "text/plain": [
       "  image_filename  class_number\n",
       "0     im_4_0.png             0\n",
       "1    im_21_0.png             0\n",
       "2     im_9_0.png             0\n",
       "3     im_8_0.png             0\n",
       "4    im_15_0.png             0"
      ]
     },
     "execution_count": 5,
     "metadata": {},
     "output_type": "execute_result"
    }
   ],
   "source": [
    "traindf.head()"
   ]
  },
  {
   "cell_type": "code",
   "execution_count": 6,
   "id": "80cf1193",
   "metadata": {
    "ExecuteTime": {
     "end_time": "2024-11-07T00:13:37.645461Z",
     "start_time": "2024-11-07T00:13:37.616232Z"
    }
   },
   "outputs": [
    {
     "data": {
      "text/plain": [
       "class_number\n",
       "3    3594\n",
       "1    3177\n",
       "0    1469\n",
       "2    1206\n",
       "Name: count, dtype: int64"
      ]
     },
     "execution_count": 6,
     "metadata": {},
     "output_type": "execute_result"
    }
   ],
   "source": [
    "traindf.class_number.value_counts()"
   ]
  },
  {
   "cell_type": "code",
   "execution_count": 7,
   "id": "d890261a",
   "metadata": {
    "ExecuteTime": {
     "end_time": "2024-11-07T00:14:26.997264Z",
     "start_time": "2024-11-07T00:14:26.987734Z"
    }
   },
   "outputs": [
    {
     "data": {
      "text/plain": [
       "(9446, 2)"
      ]
     },
     "execution_count": 7,
     "metadata": {},
     "output_type": "execute_result"
    }
   ],
   "source": [
    "traindf.shape"
   ]
  },
  {
   "cell_type": "markdown",
   "id": "c28d0620",
   "metadata": {},
   "source": [
    "## Seleccionamos las imagenes de tejido sano y tejido con cancer"
   ]
  },
  {
   "cell_type": "code",
   "execution_count": 8,
   "id": "ac1c63c5",
   "metadata": {
    "ExecuteTime": {
     "end_time": "2024-11-07T00:21:33.020313Z",
     "start_time": "2024-11-07T00:21:32.988059Z"
    }
   },
   "outputs": [],
   "source": [
    "df = traindf[(traindf.class_number == 0) |(traindf.class_number == 3 )]"
   ]
  },
  {
   "cell_type": "code",
   "execution_count": 9,
   "id": "e8d707eb",
   "metadata": {
    "ExecuteTime": {
     "end_time": "2024-11-07T00:21:59.122696Z",
     "start_time": "2024-11-07T00:21:59.103750Z"
    }
   },
   "outputs": [
    {
     "data": {
      "text/plain": [
       "(5063, 2)"
      ]
     },
     "execution_count": 9,
     "metadata": {},
     "output_type": "execute_result"
    }
   ],
   "source": [
    "df = df.replace(3,1)\n",
    "df.shape"
   ]
  },
  {
   "cell_type": "code",
   "execution_count": 10,
   "id": "f7ea5981",
   "metadata": {
    "ExecuteTime": {
     "end_time": "2024-11-07T00:22:06.865599Z",
     "start_time": "2024-11-07T00:22:06.837146Z"
    }
   },
   "outputs": [
    {
     "data": {
      "text/plain": [
       "class_number\n",
       "1    3594\n",
       "0    1469\n",
       "Name: count, dtype: int64"
      ]
     },
     "execution_count": 10,
     "metadata": {},
     "output_type": "execute_result"
    }
   ],
   "source": [
    "df.class_number.value_counts()"
   ]
  },
  {
   "cell_type": "code",
   "execution_count": 11,
   "id": "7440adc3",
   "metadata": {
    "ExecuteTime": {
     "end_time": "2024-11-07T00:22:31.603602Z",
     "start_time": "2024-11-07T00:22:31.526952Z"
    }
   },
   "outputs": [],
   "source": [
    "df.to_csv(os.path.join(pathDatos,'ClasesImagenes.csv'), index=False)"
   ]
  },
  {
   "cell_type": "code",
   "execution_count": 14,
   "id": "f3184bb0",
   "metadata": {
    "ExecuteTime": {
     "end_time": "2024-11-07T00:24:02.519033Z",
     "start_time": "2024-11-07T00:24:02.496535Z"
    }
   },
   "outputs": [
    {
     "name": "stdout",
     "output_type": "stream",
     "text": [
      "Help on method to_csv in module pandas.core.generic:\n",
      "\n",
      "to_csv(path_or_buf: 'FilePath | WriteBuffer[bytes] | WriteBuffer[str] | None' = None, *, sep: 'str' = ',', na_rep: 'str' = '', float_format: 'str | Callable | None' = None, columns: 'Sequence[Hashable] | None' = None, header: 'bool_t | list[str]' = True, index: 'bool_t' = True, index_label: 'IndexLabel | None' = None, mode: 'str' = 'w', encoding: 'str | None' = None, compression: 'CompressionOptions' = 'infer', quoting: 'int | None' = None, quotechar: 'str' = '\"', lineterminator: 'str | None' = None, chunksize: 'int | None' = None, date_format: 'str | None' = None, doublequote: 'bool_t' = True, escapechar: 'str | None' = None, decimal: 'str' = '.', errors: 'OpenFileErrors' = 'strict', storage_options: 'StorageOptions | None' = None) -> 'str | None' method of pandas.core.frame.DataFrame instance\n",
      "    Write object to a comma-separated values (csv) file.\n",
      "    \n",
      "    Parameters\n",
      "    ----------\n",
      "    path_or_buf : str, path object, file-like object, or None, default None\n",
      "        String, path object (implementing os.PathLike[str]), or file-like\n",
      "        object implementing a write() function. If None, the result is\n",
      "        returned as a string. If a non-binary file object is passed, it should\n",
      "        be opened with `newline=''`, disabling universal newlines. If a binary\n",
      "        file object is passed, `mode` might need to contain a `'b'`.\n",
      "    sep : str, default ','\n",
      "        String of length 1. Field delimiter for the output file.\n",
      "    na_rep : str, default ''\n",
      "        Missing data representation.\n",
      "    float_format : str, Callable, default None\n",
      "        Format string for floating point numbers. If a Callable is given, it takes\n",
      "        precedence over other numeric formatting parameters, like decimal.\n",
      "    columns : sequence, optional\n",
      "        Columns to write.\n",
      "    header : bool or list of str, default True\n",
      "        Write out the column names. If a list of strings is given it is\n",
      "        assumed to be aliases for the column names.\n",
      "    index : bool, default True\n",
      "        Write row names (index).\n",
      "    index_label : str or sequence, or False, default None\n",
      "        Column label for index column(s) if desired. If None is given, and\n",
      "        `header` and `index` are True, then the index names are used. A\n",
      "        sequence should be given if the object uses MultiIndex. If\n",
      "        False do not print fields for index names. Use index_label=False\n",
      "        for easier importing in R.\n",
      "    mode : {'w', 'x', 'a'}, default 'w'\n",
      "        Forwarded to either `open(mode=)` or `fsspec.open(mode=)` to control\n",
      "        the file opening. Typical values include:\n",
      "    \n",
      "        - 'w', truncate the file first.\n",
      "        - 'x', exclusive creation, failing if the file already exists.\n",
      "        - 'a', append to the end of file if it exists.\n",
      "    \n",
      "    encoding : str, optional\n",
      "        A string representing the encoding to use in the output file,\n",
      "        defaults to 'utf-8'. `encoding` is not supported if `path_or_buf`\n",
      "        is a non-binary file object.\n",
      "    compression : str or dict, default 'infer'\n",
      "        For on-the-fly compression of the output data. If 'infer' and 'path_or_buf' is\n",
      "        path-like, then detect compression from the following extensions: '.gz',\n",
      "        '.bz2', '.zip', '.xz', '.zst', '.tar', '.tar.gz', '.tar.xz' or '.tar.bz2'\n",
      "        (otherwise no compression).\n",
      "        Set to ``None`` for no compression.\n",
      "        Can also be a dict with key ``'method'`` set\n",
      "        to one of {``'zip'``, ``'gzip'``, ``'bz2'``, ``'zstd'``, ``'xz'``, ``'tar'``} and\n",
      "        other key-value pairs are forwarded to\n",
      "        ``zipfile.ZipFile``, ``gzip.GzipFile``,\n",
      "        ``bz2.BZ2File``, ``zstandard.ZstdCompressor``, ``lzma.LZMAFile`` or\n",
      "        ``tarfile.TarFile``, respectively.\n",
      "        As an example, the following could be passed for faster compression and to create\n",
      "        a reproducible gzip archive:\n",
      "        ``compression={'method': 'gzip', 'compresslevel': 1, 'mtime': 1}``.\n",
      "    \n",
      "        .. versionadded:: 1.5.0\n",
      "            Added support for `.tar` files.\n",
      "    \n",
      "           May be a dict with key 'method' as compression mode\n",
      "           and other entries as additional compression options if\n",
      "           compression mode is 'zip'.\n",
      "    \n",
      "           Passing compression options as keys in dict is\n",
      "           supported for compression modes 'gzip', 'bz2', 'zstd', and 'zip'.\n",
      "    quoting : optional constant from csv module\n",
      "        Defaults to csv.QUOTE_MINIMAL. If you have set a `float_format`\n",
      "        then floats are converted to strings and thus csv.QUOTE_NONNUMERIC\n",
      "        will treat them as non-numeric.\n",
      "    quotechar : str, default '\\\"'\n",
      "        String of length 1. Character used to quote fields.\n",
      "    lineterminator : str, optional\n",
      "        The newline character or character sequence to use in the output\n",
      "        file. Defaults to `os.linesep`, which depends on the OS in which\n",
      "        this method is called ('\\\\n' for linux, '\\\\r\\\\n' for Windows, i.e.).\n",
      "    \n",
      "        .. versionchanged:: 1.5.0\n",
      "    \n",
      "            Previously was line_terminator, changed for consistency with\n",
      "            read_csv and the standard library 'csv' module.\n",
      "    \n",
      "    chunksize : int or None\n",
      "        Rows to write at a time.\n",
      "    date_format : str, default None\n",
      "        Format string for datetime objects.\n",
      "    doublequote : bool, default True\n",
      "        Control quoting of `quotechar` inside a field.\n",
      "    escapechar : str, default None\n",
      "        String of length 1. Character used to escape `sep` and `quotechar`\n",
      "        when appropriate.\n",
      "    decimal : str, default '.'\n",
      "        Character recognized as decimal separator. E.g. use ',' for\n",
      "        European data.\n",
      "    errors : str, default 'strict'\n",
      "        Specifies how encoding and decoding errors are to be handled.\n",
      "        See the errors argument for :func:`open` for a full list\n",
      "        of options.\n",
      "    \n",
      "    storage_options : dict, optional\n",
      "        Extra options that make sense for a particular storage connection, e.g.\n",
      "        host, port, username, password, etc. For HTTP(S) URLs the key-value pairs\n",
      "        are forwarded to ``urllib.request.Request`` as header options. For other\n",
      "        URLs (e.g. starting with \"s3://\", and \"gcs://\") the key-value pairs are\n",
      "        forwarded to ``fsspec.open``. Please see ``fsspec`` and ``urllib`` for more\n",
      "        details, and for more examples on storage options refer `here\n",
      "        <https://pandas.pydata.org/docs/user_guide/io.html?\n",
      "        highlight=storage_options#reading-writing-remote-files>`_.\n",
      "    \n",
      "    Returns\n",
      "    -------\n",
      "    None or str\n",
      "        If path_or_buf is None, returns the resulting csv format as a\n",
      "        string. Otherwise returns None.\n",
      "    \n",
      "    See Also\n",
      "    --------\n",
      "    read_csv : Load a CSV file into a DataFrame.\n",
      "    to_excel : Write DataFrame to an Excel file.\n",
      "    \n",
      "    Examples\n",
      "    --------\n",
      "    Create 'out.csv' containing 'df' without indices\n",
      "    \n",
      "    >>> df = pd.DataFrame({'name': ['Raphael', 'Donatello'],\n",
      "    ...                    'mask': ['red', 'purple'],\n",
      "    ...                    'weapon': ['sai', 'bo staff']})\n",
      "    >>> df.to_csv('out.csv', index=False)  # doctest: +SKIP\n",
      "    \n",
      "    Create 'out.zip' containing 'out.csv'\n",
      "    \n",
      "    >>> df.to_csv(index=False)\n",
      "    'name,mask,weapon\\nRaphael,red,sai\\nDonatello,purple,bo staff\\n'\n",
      "    >>> compression_opts = dict(method='zip',\n",
      "    ...                         archive_name='out.csv')  # doctest: +SKIP\n",
      "    >>> df.to_csv('out.zip', index=False,\n",
      "    ...           compression=compression_opts)  # doctest: +SKIP\n",
      "    \n",
      "    To write a csv file to a new folder or nested folder you will first\n",
      "    need to create it using either Pathlib or os:\n",
      "    \n",
      "    >>> from pathlib import Path  # doctest: +SKIP\n",
      "    >>> filepath = Path('folder/subfolder/out.csv')  # doctest: +SKIP\n",
      "    >>> filepath.parent.mkdir(parents=True, exist_ok=True)  # doctest: +SKIP\n",
      "    >>> df.to_csv(filepath)  # doctest: +SKIP\n",
      "    \n",
      "    >>> import os  # doctest: +SKIP\n",
      "    >>> os.makedirs('folder/subfolder', exist_ok=True)  # doctest: +SKIP\n",
      "    >>> df.to_csv('folder/subfolder/out.csv')  # doctest: +SKIP\n",
      "\n"
     ]
    }
   ],
   "source": [
    "help(df.to_csv)"
   ]
  },
  {
   "cell_type": "markdown",
   "id": "6de3439b",
   "metadata": {},
   "source": [
    "## Exploramos el formato de las imagenes mediante un ejemplo\n",
    "\n",
    "Cuando cargamos una imagen a color, el objeto resultante es una matriz de tres dimensiones, que representa de manera eficiente el nivel de cada pixel entre 0 y 255 (256 niveles discretos de color son suficientes para la percepción del ojo humano)"
   ]
  },
  {
   "cell_type": "code",
   "execution_count": 15,
   "id": "93d86dc5",
   "metadata": {
    "ExecuteTime": {
     "end_time": "2024-11-07T00:26:47.628029Z",
     "start_time": "2024-11-07T00:26:47.616032Z"
    }
   },
   "outputs": [],
   "source": [
    "datos = df"
   ]
  },
  {
   "cell_type": "code",
   "execution_count": 16,
   "id": "98483851",
   "metadata": {
    "ExecuteTime": {
     "end_time": "2024-11-07T00:26:58.743252Z",
     "start_time": "2024-11-07T00:26:58.728452Z"
    }
   },
   "outputs": [],
   "source": [
    "pathImages = os.path.join(os.path.pardir,'datos','TrainingSetImagesDir')"
   ]
  },
  {
   "cell_type": "code",
   "execution_count": 18,
   "id": "9609af0a",
   "metadata": {
    "ExecuteTime": {
     "end_time": "2024-11-07T00:33:25.983225Z",
     "start_time": "2024-11-07T00:33:25.971214Z"
    }
   },
   "outputs": [
    {
     "data": {
      "text/plain": [
       "<function __main__.<lambda>(x)>"
      ]
     },
     "execution_count": 18,
     "metadata": {},
     "output_type": "execute_result"
    }
   ],
   "source": [
    "def cuadrado(x):\n",
    "    return x**2\n",
    "\n",
    "lambda x: x**2"
   ]
  },
  {
   "cell_type": "code",
   "execution_count": 19,
   "id": "66fe08ce",
   "metadata": {
    "ExecuteTime": {
     "end_time": "2024-11-07T00:35:13.987305Z",
     "start_time": "2024-11-07T00:35:13.921478Z"
    }
   },
   "outputs": [],
   "source": [
    "# Filtramos las imágenes de las clases 0 y 3, tejido sano y cancerígenas\n",
    "datos['image_filename'] = df['image_filename'].apply(lambda row: [os.path.join(pathImages, row)])"
   ]
  },
  {
   "cell_type": "code",
   "execution_count": 20,
   "id": "d9fc834c",
   "metadata": {
    "ExecuteTime": {
     "end_time": "2024-11-07T00:35:22.283927Z",
     "start_time": "2024-11-07T00:35:22.260997Z"
    }
   },
   "outputs": [
    {
     "data": {
      "text/html": [
       "<div>\n",
       "<style scoped>\n",
       "    .dataframe tbody tr th:only-of-type {\n",
       "        vertical-align: middle;\n",
       "    }\n",
       "\n",
       "    .dataframe tbody tr th {\n",
       "        vertical-align: top;\n",
       "    }\n",
       "\n",
       "    .dataframe thead th {\n",
       "        text-align: right;\n",
       "    }\n",
       "</style>\n",
       "<table border=\"1\" class=\"dataframe\">\n",
       "  <thead>\n",
       "    <tr style=\"text-align: right;\">\n",
       "      <th></th>\n",
       "      <th>image_filename</th>\n",
       "      <th>class_number</th>\n",
       "    </tr>\n",
       "  </thead>\n",
       "  <tbody>\n",
       "    <tr>\n",
       "      <th>0</th>\n",
       "      <td>[..\\datos\\TrainingSetImagesDir\\im_4_0.png]</td>\n",
       "      <td>0</td>\n",
       "    </tr>\n",
       "    <tr>\n",
       "      <th>1</th>\n",
       "      <td>[..\\datos\\TrainingSetImagesDir\\im_21_0.png]</td>\n",
       "      <td>0</td>\n",
       "    </tr>\n",
       "    <tr>\n",
       "      <th>2</th>\n",
       "      <td>[..\\datos\\TrainingSetImagesDir\\im_9_0.png]</td>\n",
       "      <td>0</td>\n",
       "    </tr>\n",
       "    <tr>\n",
       "      <th>3</th>\n",
       "      <td>[..\\datos\\TrainingSetImagesDir\\im_8_0.png]</td>\n",
       "      <td>0</td>\n",
       "    </tr>\n",
       "    <tr>\n",
       "      <th>4</th>\n",
       "      <td>[..\\datos\\TrainingSetImagesDir\\im_15_0.png]</td>\n",
       "      <td>0</td>\n",
       "    </tr>\n",
       "  </tbody>\n",
       "</table>\n",
       "</div>"
      ],
      "text/plain": [
       "                                image_filename  class_number\n",
       "0   [..\\datos\\TrainingSetImagesDir\\im_4_0.png]             0\n",
       "1  [..\\datos\\TrainingSetImagesDir\\im_21_0.png]             0\n",
       "2   [..\\datos\\TrainingSetImagesDir\\im_9_0.png]             0\n",
       "3   [..\\datos\\TrainingSetImagesDir\\im_8_0.png]             0\n",
       "4  [..\\datos\\TrainingSetImagesDir\\im_15_0.png]             0"
      ]
     },
     "execution_count": 20,
     "metadata": {},
     "output_type": "execute_result"
    }
   ],
   "source": [
    "datos.head()"
   ]
  },
  {
   "cell_type": "code",
   "execution_count": 21,
   "id": "09d36f9b",
   "metadata": {
    "ExecuteTime": {
     "end_time": "2024-11-07T00:36:08.350997Z",
     "start_time": "2024-11-07T00:36:08.322379Z"
    }
   },
   "outputs": [],
   "source": [
    "datos['image_filename'] = df['image_filename'].str.get(0)"
   ]
  },
  {
   "cell_type": "code",
   "execution_count": 22,
   "id": "cb17ed6f",
   "metadata": {
    "ExecuteTime": {
     "end_time": "2024-11-07T00:36:08.955173Z",
     "start_time": "2024-11-07T00:36:08.928947Z"
    }
   },
   "outputs": [
    {
     "data": {
      "text/html": [
       "<div>\n",
       "<style scoped>\n",
       "    .dataframe tbody tr th:only-of-type {\n",
       "        vertical-align: middle;\n",
       "    }\n",
       "\n",
       "    .dataframe tbody tr th {\n",
       "        vertical-align: top;\n",
       "    }\n",
       "\n",
       "    .dataframe thead th {\n",
       "        text-align: right;\n",
       "    }\n",
       "</style>\n",
       "<table border=\"1\" class=\"dataframe\">\n",
       "  <thead>\n",
       "    <tr style=\"text-align: right;\">\n",
       "      <th></th>\n",
       "      <th>image_filename</th>\n",
       "      <th>class_number</th>\n",
       "    </tr>\n",
       "  </thead>\n",
       "  <tbody>\n",
       "    <tr>\n",
       "      <th>0</th>\n",
       "      <td>..\\datos\\TrainingSetImagesDir\\im_4_0.png</td>\n",
       "      <td>0</td>\n",
       "    </tr>\n",
       "    <tr>\n",
       "      <th>1</th>\n",
       "      <td>..\\datos\\TrainingSetImagesDir\\im_21_0.png</td>\n",
       "      <td>0</td>\n",
       "    </tr>\n",
       "    <tr>\n",
       "      <th>2</th>\n",
       "      <td>..\\datos\\TrainingSetImagesDir\\im_9_0.png</td>\n",
       "      <td>0</td>\n",
       "    </tr>\n",
       "    <tr>\n",
       "      <th>3</th>\n",
       "      <td>..\\datos\\TrainingSetImagesDir\\im_8_0.png</td>\n",
       "      <td>0</td>\n",
       "    </tr>\n",
       "    <tr>\n",
       "      <th>4</th>\n",
       "      <td>..\\datos\\TrainingSetImagesDir\\im_15_0.png</td>\n",
       "      <td>0</td>\n",
       "    </tr>\n",
       "  </tbody>\n",
       "</table>\n",
       "</div>"
      ],
      "text/plain": [
       "                              image_filename  class_number\n",
       "0   ..\\datos\\TrainingSetImagesDir\\im_4_0.png             0\n",
       "1  ..\\datos\\TrainingSetImagesDir\\im_21_0.png             0\n",
       "2   ..\\datos\\TrainingSetImagesDir\\im_9_0.png             0\n",
       "3   ..\\datos\\TrainingSetImagesDir\\im_8_0.png             0\n",
       "4  ..\\datos\\TrainingSetImagesDir\\im_15_0.png             0"
      ]
     },
     "execution_count": 22,
     "metadata": {},
     "output_type": "execute_result"
    }
   ],
   "source": [
    "datos.head()"
   ]
  },
  {
   "cell_type": "code",
   "execution_count": 23,
   "id": "05a6aaae",
   "metadata": {
    "ExecuteTime": {
     "end_time": "2024-11-07T00:36:24.996134Z",
     "start_time": "2024-11-07T00:36:24.979877Z"
    }
   },
   "outputs": [
    {
     "data": {
      "text/plain": [
       "'..\\\\datos\\\\TrainingSetImagesDir\\\\im_4_0.png'"
      ]
     },
     "execution_count": 23,
     "metadata": {},
     "output_type": "execute_result"
    }
   ],
   "source": [
    "datos['image_filename'][0]"
   ]
  },
  {
   "cell_type": "code",
   "execution_count": 28,
   "id": "057498b9",
   "metadata": {
    "ExecuteTime": {
     "end_time": "2024-11-07T00:39:40.857547Z",
     "start_time": "2024-11-07T00:39:40.818650Z"
    }
   },
   "outputs": [],
   "source": [
    "imag1 = io.imread(datos['image_filename'][7])"
   ]
  },
  {
   "cell_type": "code",
   "execution_count": 29,
   "id": "c6eb7a0a",
   "metadata": {
    "ExecuteTime": {
     "end_time": "2024-11-07T00:39:42.504637Z",
     "start_time": "2024-11-07T00:39:41.976460Z"
    }
   },
   "outputs": [
    {
     "data": {
      "image/png": "[encoded data removed]",
      "text/plain": [
       "<Figure size 432x288 with 1 Axes>"
      ]
     },
     "metadata": {
      "needs_background": "light"
     },
     "output_type": "display_data"
    }
   ],
   "source": [
    "io.imshow(imag1)\n",
    "plt.show()"
   ]
  },
  {
   "cell_type": "code",
   "execution_count": 30,
   "id": "fe75932f",
   "metadata": {
    "ExecuteTime": {
     "end_time": "2024-11-07T00:39:55.810348Z",
     "start_time": "2024-11-07T00:39:55.790373Z"
    }
   },
   "outputs": [
    {
     "data": {
      "text/plain": [
       "(519, 521, 3)"
      ]
     },
     "execution_count": 30,
     "metadata": {},
     "output_type": "execute_result"
    }
   ],
   "source": [
    "imag1.shape"
   ]
  },
  {
   "cell_type": "markdown",
   "id": "f57e4e0c",
   "metadata": {},
   "source": [
    "[How to Convert a Picture to Numbers». Accedido 12 de mayo de 2020.](https://e2eml.school/images_to_numbers.html).\n",
    "- Dimensión 0: 519 renglones de pixeles de arriba a abajo\n",
    "- Dimension 1: 521 columnas de pixeles de izquierda a derecha\n",
    "- Dimension 2: 3 Canales de color (rojo, verde y azul en ese orden) (RGB)"
   ]
  },
  {
   "cell_type": "markdown",
   "id": "79fb7a45",
   "metadata": {},
   "source": [
    "## Cargamos todas las imágenes de tejido sano y tejido con cáncer"
   ]
  },
  {
   "cell_type": "code",
   "execution_count": 31,
   "id": "0c1220ab",
   "metadata": {
    "ExecuteTime": {
     "end_time": "2024-11-07T00:46:46.733373Z",
     "start_time": "2024-11-07T00:42:32.144218Z"
    }
   },
   "outputs": [],
   "source": [
    "img= [io.imread(i, as_gray=True) for i in datos['image_filename'][:]]"
   ]
  },
  {
   "cell_type": "code",
   "execution_count": 32,
   "id": "4d1fa0a1",
   "metadata": {
    "ExecuteTime": {
     "end_time": "2024-11-07T00:46:46.834322Z",
     "start_time": "2024-11-07T00:46:46.768370Z"
    }
   },
   "outputs": [
    {
     "data": {
      "text/plain": [
       "5063"
      ]
     },
     "execution_count": 32,
     "metadata": {},
     "output_type": "execute_result"
    }
   ],
   "source": [
    "len(img)"
   ]
  },
  {
   "cell_type": "code",
   "execution_count": null,
   "id": "3471d495",
   "metadata": {
    "ExecuteTime": {
     "end_time": "2024-11-06T16:37:00.288610Z",
     "start_time": "2024-11-06T16:37:00.288610Z"
    }
   },
   "outputs": [],
   "source": [
    "img_scl = []\n",
    "for i in range (len(img)):\n",
    "    scl = rescale(img[i] , 1/2)\n",
    "    img_scl.append(scl)"
   ]
  },
  {
   "cell_type": "code",
   "execution_count": null,
   "id": "0d40d7d1",
   "metadata": {
    "ExecuteTime": {
     "end_time": "2024-11-06T16:32:09.353675Z",
     "start_time": "2024-11-06T16:32:08.609182Z"
    }
   },
   "outputs": [],
   "source": [
    "for i in range(len(img)):\n",
    "    image.imsave(os.path.join(pathDatos,'CarpetaImagenes', datos.image_filename[i]), img_scl[i])"
   ]
  },
  {
   "cell_type": "code",
   "execution_count": null,
   "id": "2942046e",
   "metadata": {},
   "outputs": [],
   "source": []
  }
 ],
 "metadata": {
  "kernelspec": {
   "display_name": "Python 3 (ipykernel)",
   "language": "python",
   "name": "python3"
  },
  "language_info": {
   "codemirror_mode": {
    "name": "ipython",
    "version": 3
   },
   "file_extension": ".py",
   "mimetype": "text/x-python",
   "name": "python",
   "nbconvert_exporter": "python",
   "pygments_lexer": "ipython3",
   "version": "3.9.12"
  },
  "nbTranslate": {
   "displayLangs": [
    "*"
   ],
   "hotkey": "alt-t",
   "langInMainMenu": true,
   "sourceLang": "en",
   "targetLang": "fr",
   "useGoogleTranslate": true
  },
  "toc": {
   "base_numbering": 1,
   "nav_menu": {},
   "number_sections": true,
   "sideBar": true,
   "skip_h1_title": false,
   "title_cell": "Table of Contents",
   "title_sidebar": "Contents",
   "toc_cell": false,
   "toc_position": {},
   "toc_section_display": true,
   "toc_window_display": false
  }
 },
 "nbformat": 4,
 "nbformat_minor": 5
}
