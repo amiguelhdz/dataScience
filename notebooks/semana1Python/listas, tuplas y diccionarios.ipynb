{
 "cells": [
  {
   "cell_type": "code",
   "execution_count": 1,
   "id": "66f42c6f",
   "metadata": {
    "ExecuteTime": {
     "end_time": "2024-10-29T16:21:50.371551Z",
     "start_time": "2024-10-29T16:21:50.358157Z"
    }
   },
   "outputs": [],
   "source": [
    "# lista vacia\n",
    "l1 = []\n",
    "l2 = list()"
   ]
  },
  {
   "cell_type": "code",
   "execution_count": 2,
   "id": "997135ae",
   "metadata": {
    "ExecuteTime": {
     "end_time": "2024-10-29T16:21:50.387234Z",
     "start_time": "2024-10-29T16:21:50.374154Z"
    }
   },
   "outputs": [
    {
     "data": {
      "text/plain": [
       "list"
      ]
     },
     "execution_count": 2,
     "metadata": {},
     "output_type": "execute_result"
    }
   ],
   "source": [
    "# una lista puede contener elementos de diferentes tipos de datos\n",
    "l3 = ['4', 'd', 'book', 5]\n",
    "type(l3)"
   ]
  },
  {
   "cell_type": "code",
   "execution_count": 3,
   "id": "2eb49fbc",
   "metadata": {
    "ExecuteTime": {
     "end_time": "2024-10-29T16:21:50.402150Z",
     "start_time": "2024-10-29T16:21:50.388152Z"
    }
   },
   "outputs": [],
   "source": [
    "#Añadir elementos a una lista: metodo append\n",
    "l1.append(5)"
   ]
  },
  {
   "cell_type": "code",
   "execution_count": 4,
   "id": "1a6bbb48",
   "metadata": {
    "ExecuteTime": {
     "end_time": "2024-10-29T16:21:50.418153Z",
     "start_time": "2024-10-29T16:21:50.404152Z"
    }
   },
   "outputs": [],
   "source": [
    "# añair elementos a una lista en una posición específica: metodo insert\n",
    "l1.insert(0,3)"
   ]
  },
  {
   "cell_type": "code",
   "execution_count": 5,
   "id": "757f2ac6",
   "metadata": {
    "ExecuteTime": {
     "end_time": "2024-10-29T16:21:50.434194Z",
     "start_time": "2024-10-29T16:21:50.420328Z"
    }
   },
   "outputs": [
    {
     "data": {
      "text/plain": [
       "[0, 1, 4, 9, 16, 25, 36, 49, 64, 81]"
      ]
     },
     "execution_count": 5,
     "metadata": {},
     "output_type": "execute_result"
    }
   ],
   "source": [
    "#llenar una lista, mediante list comprehension\n",
    "l2 = [x**2 for x in range(0,10)]\n",
    "l2"
   ]
  },
  {
   "cell_type": "code",
   "execution_count": 6,
   "id": "fb387f32",
   "metadata": {
    "ExecuteTime": {
     "end_time": "2024-10-29T16:21:50.450184Z",
     "start_time": "2024-10-29T16:21:50.438156Z"
    }
   },
   "outputs": [
    {
     "data": {
      "text/plain": [
       "[0, 1, 4, 9, 16]"
      ]
     },
     "execution_count": 6,
     "metadata": {},
     "output_type": "execute_result"
    }
   ],
   "source": [
    "# mostrar ciertos elementos de una lista, especificando los indices\n",
    "l2[0:5]"
   ]
  },
  {
   "cell_type": "code",
   "execution_count": 7,
   "id": "ad372bb3",
   "metadata": {
    "ExecuteTime": {
     "end_time": "2024-10-29T16:21:50.466153Z",
     "start_time": "2024-10-29T16:21:50.453158Z"
    }
   },
   "outputs": [],
   "source": [
    "# Eliminar un elemento de una lista\n",
    "l2.remove(0)"
   ]
  },
  {
   "cell_type": "code",
   "execution_count": 8,
   "id": "b1dbab33",
   "metadata": {
    "ExecuteTime": {
     "end_time": "2024-10-29T16:21:50.481233Z",
     "start_time": "2024-10-29T16:21:50.471156Z"
    }
   },
   "outputs": [
    {
     "data": {
      "text/plain": [
       "81"
      ]
     },
     "execution_count": 8,
     "metadata": {},
     "output_type": "execute_result"
    }
   ],
   "source": [
    "# Eliminar el último elemento de una lista\n",
    "l2.pop()"
   ]
  },
  {
   "cell_type": "code",
   "execution_count": 9,
   "id": "ca5ee89e",
   "metadata": {
    "ExecuteTime": {
     "end_time": "2024-10-29T16:21:50.496416Z",
     "start_time": "2024-10-29T16:21:50.485191Z"
    }
   },
   "outputs": [
    {
     "data": {
      "text/plain": [
       "[1, 4, 9, 16, 25, 36, 49, 64]"
      ]
     },
     "execution_count": 9,
     "metadata": {},
     "output_type": "execute_result"
    }
   ],
   "source": [
    "l2"
   ]
  },
  {
   "cell_type": "code",
   "execution_count": 10,
   "id": "be417652",
   "metadata": {
    "ExecuteTime": {
     "end_time": "2024-10-29T17:15:32.313164Z",
     "start_time": "2024-10-29T17:15:32.298163Z"
    }
   },
   "outputs": [
    {
     "data": {
      "text/plain": [
       "[3, 5]"
      ]
     },
     "execution_count": 10,
     "metadata": {},
     "output_type": "execute_result"
    }
   ],
   "source": [
    "l1"
   ]
  },
  {
   "cell_type": "code",
   "execution_count": 11,
   "id": "a0ef5bc3",
   "metadata": {
    "ExecuteTime": {
     "end_time": "2024-10-29T17:17:08.627314Z",
     "start_time": "2024-10-29T17:17:08.609315Z"
    }
   },
   "outputs": [
    {
     "data": {
      "text/plain": [
       "[3, 5, 1, 4, 9, 16, 25, 36, 49, 64]"
      ]
     },
     "execution_count": 11,
     "metadata": {},
     "output_type": "execute_result"
    }
   ],
   "source": [
    "# operaciones con listas\n",
    "l4 = l1 + l2 \n",
    "l4"
   ]
  },
  {
   "cell_type": "code",
   "execution_count": 13,
   "id": "b20d43ac",
   "metadata": {
    "ExecuteTime": {
     "end_time": "2024-10-29T17:18:25.025022Z",
     "start_time": "2024-10-29T17:18:25.010311Z"
    }
   },
   "outputs": [
    {
     "data": {
      "text/plain": [
       "[[3, 5], [1, 4, 9, 16, 25, 36, 49, 64], ['4', 'd', 'book', 5]]"
      ]
     },
     "execution_count": 13,
     "metadata": {},
     "output_type": "execute_result"
    }
   ],
   "source": [
    "# listas anidadas\n",
    "l5 = [l1,l2,l3]\n",
    "l5"
   ]
  },
  {
   "cell_type": "code",
   "execution_count": 15,
   "id": "4ab9d8ed",
   "metadata": {
    "ExecuteTime": {
     "end_time": "2024-10-29T17:19:48.552403Z",
     "start_time": "2024-10-29T17:19:48.535368Z"
    }
   },
   "outputs": [
    {
     "name": "stdout",
     "output_type": "stream",
     "text": [
      "[3, 5]\n"
     ]
    }
   ],
   "source": [
    "# iteraciones sobre listas\n",
    "for item in l5:\n",
    "    if len(item) == 2:\n",
    "        print(item)"
   ]
  },
  {
   "cell_type": "code",
   "execution_count": 16,
   "id": "c8d326b3",
   "metadata": {
    "ExecuteTime": {
     "end_time": "2024-10-29T17:21:24.519880Z",
     "start_time": "2024-10-29T17:21:24.506725Z"
    }
   },
   "outputs": [
    {
     "data": {
      "text/plain": [
       "[[3, 5]]"
      ]
     },
     "execution_count": 16,
     "metadata": {},
     "output_type": "execute_result"
    }
   ],
   "source": [
    "# list comprehension\n",
    "l6 = [item for item in l5 if len(item) == 2]\n",
    "l6"
   ]
  },
  {
   "cell_type": "code",
   "execution_count": null,
   "id": "ddc4a2ab",
   "metadata": {},
   "outputs": [],
   "source": []
  }
 ],
 "metadata": {
  "kernelspec": {
   "display_name": "Python 3 (ipykernel)",
   "language": "python",
   "name": "python3"
  },
  "language_info": {
   "codemirror_mode": {
    "name": "ipython",
    "version": 3
   },
   "file_extension": ".py",
   "mimetype": "text/x-python",
   "name": "python",
   "nbconvert_exporter": "python",
   "pygments_lexer": "ipython3",
   "version": "3.9.12"
  },
  "nbTranslate": {
   "displayLangs": [
    "*"
   ],
   "hotkey": "alt-t",
   "langInMainMenu": true,
   "sourceLang": "en",
   "targetLang": "fr",
   "useGoogleTranslate": true
  },
  "toc": {
   "base_numbering": 1,
   "nav_menu": {},
   "number_sections": true,
   "sideBar": true,
   "skip_h1_title": false,
   "title_cell": "Table of Contents",
   "title_sidebar": "Contents",
   "toc_cell": false,
   "toc_position": {},
   "toc_section_display": true,
   "toc_window_display": false
  }
 },
 "nbformat": 4,
 "nbformat_minor": 5
}
