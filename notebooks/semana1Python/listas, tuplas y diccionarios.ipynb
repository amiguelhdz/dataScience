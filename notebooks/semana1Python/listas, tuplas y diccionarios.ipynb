{
 "cells": [
  {
   "cell_type": "code",
   "execution_count": 2,
   "id": "66f42c6f",
   "metadata": {
    "ExecuteTime": {
     "end_time": "2024-10-30T00:51:59.872930Z",
     "start_time": "2024-10-30T00:51:59.863026Z"
    }
   },
   "outputs": [
    {
     "name": "stdout",
     "output_type": "stream",
     "text": [
      "0 0\n"
     ]
    }
   ],
   "source": [
    "# lista vacia\n",
    "l1 = []\n",
    "l2 = list()\n",
    "print(len(l1), len(l2))"
   ]
  },
  {
   "cell_type": "code",
   "execution_count": 6,
   "id": "997135ae",
   "metadata": {
    "ExecuteTime": {
     "end_time": "2024-10-30T00:57:12.422602Z",
     "start_time": "2024-10-30T00:57:12.399474Z"
    }
   },
   "outputs": [
    {
     "name": "stdout",
     "output_type": "stream",
     "text": [
      "<class 'str'>\n",
      "<class 'list'>\n"
     ]
    }
   ],
   "source": [
    "# una lista puede contener elementos de diferentes tipos de datos\n",
    "l3 = ['4', 'd', 'book', 5,[1,2,3,4]]\n",
    "print(type(l3[0]))\n",
    "print(type(l3[-1]))"
   ]
  },
  {
   "cell_type": "code",
   "execution_count": 4,
   "id": "6e8367c0",
   "metadata": {
    "ExecuteTime": {
     "end_time": "2024-10-30T00:52:53.533685Z",
     "start_time": "2024-10-30T00:52:53.514679Z"
    }
   },
   "outputs": [
    {
     "data": {
      "text/plain": [
       "['4', 'd', 'book', 5, [1, 2, 3]]"
      ]
     },
     "execution_count": 4,
     "metadata": {},
     "output_type": "execute_result"
    }
   ],
   "source": [
    "l3"
   ]
  },
  {
   "cell_type": "code",
   "execution_count": 7,
   "id": "2eb49fbc",
   "metadata": {
    "ExecuteTime": {
     "end_time": "2024-10-30T00:58:35.464784Z",
     "start_time": "2024-10-30T00:58:35.440230Z"
    }
   },
   "outputs": [
    {
     "data": {
      "text/plain": [
       "['martes']"
      ]
     },
     "execution_count": 7,
     "metadata": {},
     "output_type": "execute_result"
    }
   ],
   "source": [
    "#Añadir elementos a una lista: metodo append\n",
    "l1.append(\"martes\")\n",
    "l1"
   ]
  },
  {
   "cell_type": "code",
   "execution_count": 8,
   "id": "1a6bbb48",
   "metadata": {
    "ExecuteTime": {
     "end_time": "2024-10-30T01:00:06.496422Z",
     "start_time": "2024-10-30T01:00:06.470419Z"
    }
   },
   "outputs": [
    {
     "data": {
      "text/plain": [
       "[3, 'martes']"
      ]
     },
     "execution_count": 8,
     "metadata": {},
     "output_type": "execute_result"
    }
   ],
   "source": [
    "# añair elementos a una lista en una posición específica: metodo insert\n",
    "l1.insert(0,3)\n",
    "l1"
   ]
  },
  {
   "cell_type": "code",
   "execution_count": 9,
   "id": "757f2ac6",
   "metadata": {
    "ExecuteTime": {
     "end_time": "2024-10-30T01:01:00.071006Z",
     "start_time": "2024-10-30T01:01:00.045052Z"
    }
   },
   "outputs": [
    {
     "data": {
      "text/plain": [
       "[0, 1, 4, 9, 16, 25, 36, 49, 64, 81]"
      ]
     },
     "execution_count": 9,
     "metadata": {},
     "output_type": "execute_result"
    }
   ],
   "source": [
    "#llenar una lista, mediante list comprehension\n",
    "l2 = [x**2 for x in range(0,10)]\n",
    "l2"
   ]
  },
  {
   "cell_type": "code",
   "execution_count": 10,
   "id": "fb387f32",
   "metadata": {
    "ExecuteTime": {
     "end_time": "2024-10-30T01:02:17.118605Z",
     "start_time": "2024-10-30T01:02:17.099079Z"
    }
   },
   "outputs": [
    {
     "name": "stdout",
     "output_type": "stream",
     "text": [
      "[0, 1, 4, 9, 16] 81\n"
     ]
    }
   ],
   "source": [
    "# mostrar ciertos elementos de una lista, especificando los indices\n",
    "print(l2[0:5], l2[-1])"
   ]
  },
  {
   "cell_type": "code",
   "execution_count": 34,
   "id": "ad372bb3",
   "metadata": {
    "ExecuteTime": {
     "end_time": "2024-11-01T00:06:14.310762Z",
     "start_time": "2024-11-01T00:06:14.292716Z"
    }
   },
   "outputs": [],
   "source": [
    "# Eliminar un elemento de una lista\n",
    "l2.remove(0)"
   ]
  },
  {
   "cell_type": "code",
   "execution_count": 35,
   "id": "8f8a857f",
   "metadata": {
    "ExecuteTime": {
     "end_time": "2024-11-01T00:06:26.804125Z",
     "start_time": "2024-11-01T00:06:26.783857Z"
    }
   },
   "outputs": [
    {
     "data": {
      "text/plain": [
       "[1, 4, 9, 16, 25, 36, 49, 64, 81]"
      ]
     },
     "execution_count": 35,
     "metadata": {},
     "output_type": "execute_result"
    }
   ],
   "source": [
    "l2"
   ]
  },
  {
   "cell_type": "code",
   "execution_count": 36,
   "id": "20b83536",
   "metadata": {
    "ExecuteTime": {
     "end_time": "2024-11-01T00:06:44.307550Z",
     "start_time": "2024-11-01T00:06:44.285021Z"
    }
   },
   "outputs": [
    {
     "data": {
      "text/plain": [
       "81"
      ]
     },
     "execution_count": 36,
     "metadata": {},
     "output_type": "execute_result"
    }
   ],
   "source": [
    "# Eliminar el último elemento de una lista\n",
    "l2.pop()"
   ]
  },
  {
   "cell_type": "code",
   "execution_count": 37,
   "id": "7e846722",
   "metadata": {
    "ExecuteTime": {
     "end_time": "2024-11-01T00:06:45.341833Z",
     "start_time": "2024-11-01T00:06:45.328805Z"
    }
   },
   "outputs": [
    {
     "data": {
      "text/plain": [
       "[1, 4, 9, 16, 25, 36, 49, 64]"
      ]
     },
     "execution_count": 37,
     "metadata": {},
     "output_type": "execute_result"
    }
   ],
   "source": [
    "l2"
   ]
  },
  {
   "cell_type": "code",
   "execution_count": null,
   "id": "9e613287",
   "metadata": {
    "ExecuteTime": {
     "end_time": "2024-10-29T17:15:32.313164Z",
     "start_time": "2024-10-29T17:15:32.298163Z"
    }
   },
   "outputs": [],
   "source": [
    "l1"
   ]
  },
  {
   "cell_type": "code",
   "execution_count": 38,
   "id": "8d38dfde",
   "metadata": {
    "ExecuteTime": {
     "end_time": "2024-11-01T00:07:29.749138Z",
     "start_time": "2024-11-01T00:07:29.728823Z"
    }
   },
   "outputs": [
    {
     "data": {
      "text/plain": [
       "[3, 'martes', 1, 4, 9, 16, 25, 36, 49, 64]"
      ]
     },
     "execution_count": 38,
     "metadata": {},
     "output_type": "execute_result"
    }
   ],
   "source": [
    "# operaciones con listas\n",
    "l4 = l1 + l2 \n",
    "l4"
   ]
  },
  {
   "cell_type": "code",
   "execution_count": 39,
   "id": "254f36a0",
   "metadata": {
    "ExecuteTime": {
     "end_time": "2024-11-01T00:09:01.969642Z",
     "start_time": "2024-11-01T00:09:01.955039Z"
    }
   },
   "outputs": [
    {
     "name": "stdout",
     "output_type": "stream",
     "text": [
      "[[3, 'martes'], [1, 4, 9, 16, 25, 36, 49, 64], ['4', 'd', 'book', 5, [1, 2, 3, 4]]]\n",
      "3\n"
     ]
    }
   ],
   "source": [
    "# listas anidadas\n",
    "l5 = [l1,l2,l3]\n",
    "print(l5)\n",
    "print(len(l5))"
   ]
  },
  {
   "cell_type": "code",
   "execution_count": 40,
   "id": "f30e8981",
   "metadata": {
    "ExecuteTime": {
     "end_time": "2024-11-01T00:11:01.640057Z",
     "start_time": "2024-11-01T00:11:01.623368Z"
    }
   },
   "outputs": [
    {
     "name": "stdout",
     "output_type": "stream",
     "text": [
      "[3, 'martes']\n"
     ]
    }
   ],
   "source": [
    "# iteraciones sobre listas\n",
    "for item in l5:\n",
    "    if len(item) == 2:\n",
    "        print(item)"
   ]
  },
  {
   "cell_type": "code",
   "execution_count": 41,
   "id": "ea9d7b15",
   "metadata": {
    "ExecuteTime": {
     "end_time": "2024-11-01T00:12:41.840145Z",
     "start_time": "2024-11-01T00:12:41.833269Z"
    }
   },
   "outputs": [
    {
     "data": {
      "text/plain": [
       "[[3, 'martes']]"
      ]
     },
     "execution_count": 41,
     "metadata": {},
     "output_type": "execute_result"
    }
   ],
   "source": [
    "# list comprehension\n",
    "l6 = [item for item in l5 if len(item) == 2]\n",
    "l6"
   ]
  },
  {
   "cell_type": "markdown",
   "id": "e4d56563",
   "metadata": {},
   "source": [
    "# Diccionarios\n",
    "\n",
    "Un diccionario es una colección de pares clave-valor. Son útiles para almacenar datos relacionados y acceder a ellos por medio de una clave.\n",
    "La sintaxis de un diccionario es `{clave: valor}`."
   ]
  },
  {
   "cell_type": "code",
   "execution_count": 42,
   "id": "337ffa4e",
   "metadata": {
    "ExecuteTime": {
     "end_time": "2024-11-01T00:17:11.274217Z",
     "start_time": "2024-11-01T00:17:11.257293Z"
    }
   },
   "outputs": [],
   "source": [
    "dict1 = dict()\n",
    "dict2 = {}"
   ]
  },
  {
   "cell_type": "code",
   "execution_count": 45,
   "id": "649a6cdc",
   "metadata": {
    "ExecuteTime": {
     "end_time": "2024-11-01T00:18:43.972568Z",
     "start_time": "2024-11-01T00:18:43.964631Z"
    }
   },
   "outputs": [
    {
     "name": "stdout",
     "output_type": "stream",
     "text": [
      "Nombre del estudiante: ['Juan', 'pedro', 'pablo']\n"
     ]
    }
   ],
   "source": [
    "\n",
    "estudiante = {\n",
    "    \"nombres\": [\"Juan\",\"pedro\",'pablo'],\n",
    "    \"edad\": 21,\n",
    "    \"carrera\": \"Ingeniería\"\n",
    "}\n",
    "\n",
    "# Acceder a un valor\n",
    "print(\"Nombre del estudiante:\", estudiante[\"nombres\"])\n"
   ]
  },
  {
   "cell_type": "code",
   "execution_count": 46,
   "id": "55fffa37",
   "metadata": {
    "ExecuteTime": {
     "end_time": "2024-11-01T00:19:51.270563Z",
     "start_time": "2024-11-01T00:19:51.263523Z"
    }
   },
   "outputs": [
    {
     "name": "stdout",
     "output_type": "stream",
     "text": [
      "{'nombres': ['Juan', 'pedro', 'pablo'], 'edad': 21, 'carrera': 'Ingeniería', 'promedio': 8.7}\n",
      "{'nombres': ['Juan', 'pedro', 'pablo'], 'edad': 22, 'carrera': 'Ingeniería', 'promedio': 8.7}\n",
      "{'nombres': ['Juan', 'pedro', 'pablo'], 'edad': 22, 'promedio': 8.7}\n",
      "Claves: dict_keys(['nombres', 'edad', 'promedio'])\n",
      "Valores: dict_values([['Juan', 'pedro', 'pablo'], 22, 8.7])\n"
     ]
    }
   ],
   "source": [
    "# Agregar un nuevo par clave-valor\n",
    "estudiante[\"promedio\"] = 8.7\n",
    "print(estudiante)\n",
    "\n",
    "# Modificar un valor\n",
    "estudiante[\"edad\"] = 22\n",
    "print(estudiante)\n",
    "\n",
    "# Eliminar un par clave-valor\n",
    "del estudiante[\"carrera\"]\n",
    "print(estudiante)\n",
    "\n",
    "# Obtener solo las claves o valores\n",
    "print(\"Claves:\", estudiante.keys())\n",
    "print(\"Valores:\", estudiante.values())\n"
   ]
  },
  {
   "cell_type": "code",
   "execution_count": 47,
   "id": "fa99d7f9",
   "metadata": {
    "ExecuteTime": {
     "end_time": "2024-11-01T00:20:36.459489Z",
     "start_time": "2024-11-01T00:20:36.439758Z"
    }
   },
   "outputs": [],
   "source": [
    "# Agregar un nuevo par clave-valor, donde el valor es una lista\n",
    "estudiante['promedioSemestre'] = [8.5,10,7,8.3]"
   ]
  },
  {
   "cell_type": "code",
   "execution_count": 48,
   "id": "7085948a",
   "metadata": {
    "ExecuteTime": {
     "end_time": "2024-11-01T00:20:39.025681Z",
     "start_time": "2024-11-01T00:20:39.008649Z"
    }
   },
   "outputs": [
    {
     "data": {
      "text/plain": [
       "{'nombres': ['Juan', 'pedro', 'pablo'],\n",
       " 'edad': 22,\n",
       " 'promedio': 8.7,\n",
       " 'promedioSemestre': [8.5, 10, 7, 8.3]}"
      ]
     },
     "execution_count": 48,
     "metadata": {},
     "output_type": "execute_result"
    }
   ],
   "source": [
    "estudiante"
   ]
  },
  {
   "cell_type": "code",
   "execution_count": 49,
   "id": "5e987f4d",
   "metadata": {
    "ExecuteTime": {
     "end_time": "2024-11-01T00:21:18.260427Z",
     "start_time": "2024-11-01T00:21:18.240560Z"
    }
   },
   "outputs": [],
   "source": [
    "# Agregar un nuevo par clave-valor, donde el valor es otro diccionario\n",
    "estudiante['promedioMaterias'] = {\n",
    "    'calculo': [10, 9, 8],\n",
    "    'algebra': [6, 8, 9],\n",
    "    'filosofia': [5, 7, 9]\n",
    "}"
   ]
  },
  {
   "cell_type": "code",
   "execution_count": 50,
   "id": "c4568049",
   "metadata": {
    "ExecuteTime": {
     "end_time": "2024-11-01T00:21:18.908292Z",
     "start_time": "2024-11-01T00:21:18.888293Z"
    }
   },
   "outputs": [
    {
     "data": {
      "text/plain": [
       "{'nombres': ['Juan', 'pedro', 'pablo'],\n",
       " 'edad': 22,\n",
       " 'promedio': 8.7,\n",
       " 'promedioSemestre': [8.5, 10, 7, 8.3],\n",
       " 'promedioMaterias': {'calculo': [10, 9, 8],\n",
       "  'algebra': [6, 8, 9],\n",
       "  'filosofia': [5, 7, 9]}}"
      ]
     },
     "execution_count": 50,
     "metadata": {},
     "output_type": "execute_result"
    }
   ],
   "source": [
    "estudiante"
   ]
  },
  {
   "cell_type": "code",
   "execution_count": 51,
   "id": "5f129884",
   "metadata": {
    "ExecuteTime": {
     "end_time": "2024-11-01T00:23:16.874231Z",
     "start_time": "2024-11-01T00:23:16.853116Z"
    }
   },
   "outputs": [
    {
     "name": "stdout",
     "output_type": "stream",
     "text": [
      "{'calculo': [10, 9, 8], 'algebra': [6, 8, 9], 'filosofia': [5, 7, 9]}\n",
      "[6, 8, 9]\n"
     ]
    }
   ],
   "source": [
    "#acceder a un elemento de un diccionario mediante el metodo get\n",
    "\n",
    "print(estudiante.get('promedioMaterias'))\n",
    "print(estudiante.get('promedioMaterias').get('algebra'))"
   ]
  },
  {
   "cell_type": "markdown",
   "id": "b07049c3",
   "metadata": {},
   "source": [
    "# Funciones\n",
    "\n",
    "Una función es un bloque de código que realiza una tarea específica. Nos permite reutilizar el código y organizarlo mejor.\n",
    "La sintaxis de una función es:"
   ]
  },
  {
   "cell_type": "code",
   "execution_count": 56,
   "id": "7e5eab94",
   "metadata": {
    "ExecuteTime": {
     "end_time": "2024-11-01T00:32:08.757547Z",
     "start_time": "2024-11-01T00:32:08.744158Z"
    }
   },
   "outputs": [
    {
     "name": "stdout",
     "output_type": "stream",
     "text": [
      "Resultado de la suma: 12.5\n"
     ]
    }
   ],
   "source": [
    "def sumar(a, b):\n",
    "    '''\n",
    "    Documentar:\n",
    "    parametros:\n",
    "    a: es un valor numerico, entero o flotante\n",
    "    b: es un valor numerico, entero o flotante\n",
    "    \n",
    "    retorna la suma de a y b\n",
    "    '''\n",
    "    return a + b\n",
    "\n",
    "\n",
    "# uso de la funcion\n",
    "resultado = sumar(5.5, 7)\n",
    "print(\"Resultado de la suma:\", resultado)"
   ]
  },
  {
   "cell_type": "code",
   "execution_count": 53,
   "id": "287804ed",
   "metadata": {
    "ExecuteTime": {
     "end_time": "2024-11-01T00:30:30.767823Z",
     "start_time": "2024-11-01T00:30:30.751101Z"
    }
   },
   "outputs": [
    {
     "name": "stdout",
     "output_type": "stream",
     "text": [
      "Help on function sumar in module __main__:\n",
      "\n",
      "sumar(a, b)\n",
      "    Documentar:\n",
      "    parametros:\n",
      "    a: es un valor numerico, entero o flotante\n",
      "    b: es un valor numerico, entero o flotante\n",
      "    \n",
      "    retorna la suma de a y b\n",
      "\n"
     ]
    }
   ],
   "source": [
    "help(sumar)"
   ]
  },
  {
   "cell_type": "code",
   "execution_count": 24,
   "id": "6a8eed2a",
   "metadata": {
    "ExecuteTime": {
     "end_time": "2024-10-31T23:56:40.202321Z",
     "start_time": "2024-10-31T23:56:40.187318Z"
    }
   },
   "outputs": [],
   "source": [
    "def unir_palabras(lista_palabras):\n",
    "    \"\"\"\n",
    "    Toma una lista de palabras y las une en una sola oración.\n",
    "    \"\"\"\n",
    "    return \" \".join(lista_palabras)"
   ]
  },
  {
   "cell_type": "code",
   "execution_count": 25,
   "id": "69207f9f",
   "metadata": {
    "ExecuteTime": {
     "end_time": "2024-10-31T23:57:13.529782Z",
     "start_time": "2024-10-31T23:57:13.508872Z"
    }
   },
   "outputs": [
    {
     "data": {
      "text/plain": [
       "'Python es un lenguaje de programacion'"
      ]
     },
     "execution_count": 25,
     "metadata": {},
     "output_type": "execute_result"
    }
   ],
   "source": [
    "unir_palabras([\"Python\", \"es\", \"un\", \"lenguaje\", \"de\", \"programacion\"])"
   ]
  },
  {
   "cell_type": "code",
   "execution_count": 57,
   "id": "d6604509",
   "metadata": {
    "ExecuteTime": {
     "end_time": "2024-11-01T00:35:01.906506Z",
     "start_time": "2024-11-01T00:35:01.887147Z"
    }
   },
   "outputs": [],
   "source": [
    "def es_primo(numero):\n",
    "    \"\"\"\n",
    "    Verifica si un número es primo.\n",
    "    \"\"\"\n",
    "    if numero < 2:\n",
    "        return False\n",
    "    for i in range(2, int(numero ** 0.5) + 1):\n",
    "        if numero % i == 0:\n",
    "            return False\n",
    "    return True"
   ]
  },
  {
   "cell_type": "code",
   "execution_count": 58,
   "id": "c8bd67e5",
   "metadata": {
    "ExecuteTime": {
     "end_time": "2024-11-01T00:35:13.976979Z",
     "start_time": "2024-11-01T00:35:13.963359Z"
    }
   },
   "outputs": [
    {
     "name": "stdout",
     "output_type": "stream",
     "text": [
      "¿El número 13 es primo?: True\n"
     ]
    }
   ],
   "source": [
    "numero = 13\n",
    "resultado = es_primo(numero)\n",
    "print(f\"¿El número {numero} es primo?:\", resultado)"
   ]
  },
  {
   "cell_type": "code",
   "execution_count": 59,
   "id": "14605a12",
   "metadata": {
    "ExecuteTime": {
     "end_time": "2024-11-01T00:35:24.524776Z",
     "start_time": "2024-11-01T00:35:24.509779Z"
    }
   },
   "outputs": [
    {
     "name": "stdout",
     "output_type": "stream",
     "text": [
      "¿El número 90 es primo?: False\n"
     ]
    }
   ],
   "source": [
    "numero = 90\n",
    "resultado = es_primo(numero)\n",
    "print(f\"¿El número {numero} es primo?:\", resultado)"
   ]
  },
  {
   "cell_type": "markdown",
   "id": "6a39e1f0",
   "metadata": {},
   "source": [
    "# Data Frames\n"
   ]
  },
  {
   "cell_type": "code",
   "execution_count": 60,
   "id": "9f50c2e6",
   "metadata": {
    "ExecuteTime": {
     "end_time": "2024-11-01T00:38:50.226918Z",
     "start_time": "2024-11-01T00:38:50.215867Z"
    }
   },
   "outputs": [],
   "source": [
    "import pandas as pd  #importa todos los metodos de una libreria\n",
    "#from pandas import DataFrame"
   ]
  },
  {
   "cell_type": "markdown",
   "id": "6f79382e",
   "metadata": {},
   "source": [
    "    instalacion de librerias:\n",
    "    pip install pandas"
   ]
  },
  {
   "cell_type": "code",
   "execution_count": 66,
   "id": "8aa7d2d3",
   "metadata": {
    "ExecuteTime": {
     "end_time": "2024-11-01T00:45:15.898255Z",
     "start_time": "2024-11-01T00:45:15.887869Z"
    }
   },
   "outputs": [],
   "source": [
    "data = {\"Nombre\":[\"Ana\",\"Luis\",\"Maria\",\"Juan\"],\n",
    "        \"Edad\":[23,21,22,24],\n",
    "        \"Ciudad\":[\"Madrid\",\"Barcelona\",\"Valencia\",\"Sevilla\"]}"
   ]
  },
  {
   "cell_type": "code",
   "execution_count": 67,
   "id": "683586aa",
   "metadata": {
    "ExecuteTime": {
     "end_time": "2024-11-01T00:45:16.391990Z",
     "start_time": "2024-11-01T00:45:16.376713Z"
    }
   },
   "outputs": [
    {
     "data": {
      "text/plain": [
       "dict"
      ]
     },
     "execution_count": 67,
     "metadata": {},
     "output_type": "execute_result"
    }
   ],
   "source": [
    "type(data)"
   ]
  },
  {
   "cell_type": "code",
   "execution_count": 68,
   "id": "b4ac1bd6",
   "metadata": {
    "ExecuteTime": {
     "end_time": "2024-11-01T00:45:16.995603Z",
     "start_time": "2024-11-01T00:45:16.984605Z"
    }
   },
   "outputs": [],
   "source": [
    "df = pd.DataFrame(data)"
   ]
  },
  {
   "cell_type": "code",
   "execution_count": 69,
   "id": "a644f061",
   "metadata": {
    "ExecuteTime": {
     "end_time": "2024-11-01T00:45:25.590872Z",
     "start_time": "2024-11-01T00:45:25.578561Z"
    }
   },
   "outputs": [
    {
     "data": {
      "text/plain": [
       "pandas.core.frame.DataFrame"
      ]
     },
     "execution_count": 69,
     "metadata": {},
     "output_type": "execute_result"
    }
   ],
   "source": [
    "type(df)"
   ]
  },
  {
   "cell_type": "code",
   "execution_count": 71,
   "id": "8e300183",
   "metadata": {
    "ExecuteTime": {
     "end_time": "2024-11-01T00:48:25.432581Z",
     "start_time": "2024-11-01T00:48:25.411514Z"
    }
   },
   "outputs": [
    {
     "data": {
      "text/html": [
       "<div>\n",
       "<style scoped>\n",
       "    .dataframe tbody tr th:only-of-type {\n",
       "        vertical-align: middle;\n",
       "    }\n",
       "\n",
       "    .dataframe tbody tr th {\n",
       "        vertical-align: top;\n",
       "    }\n",
       "\n",
       "    .dataframe thead th {\n",
       "        text-align: right;\n",
       "    }\n",
       "</style>\n",
       "<table border=\"1\" class=\"dataframe\">\n",
       "  <thead>\n",
       "    <tr style=\"text-align: right;\">\n",
       "      <th></th>\n",
       "      <th>Nombre</th>\n",
       "      <th>Edad</th>\n",
       "      <th>Ciudad</th>\n",
       "    </tr>\n",
       "  </thead>\n",
       "  <tbody>\n",
       "    <tr>\n",
       "      <th>0</th>\n",
       "      <td>Ana</td>\n",
       "      <td>23</td>\n",
       "      <td>Madrid</td>\n",
       "    </tr>\n",
       "  </tbody>\n",
       "</table>\n",
       "</div>"
      ],
      "text/plain": [
       "  Nombre  Edad  Ciudad\n",
       "0    Ana    23  Madrid"
      ]
     },
     "execution_count": 71,
     "metadata": {},
     "output_type": "execute_result"
    }
   ],
   "source": [
    "# Muestra los primeros n registros de un DataFrame\n",
    "df.head(1)"
   ]
  },
  {
   "cell_type": "code",
   "execution_count": 73,
   "id": "42f75099",
   "metadata": {
    "ExecuteTime": {
     "end_time": "2024-11-01T00:49:01.867386Z",
     "start_time": "2024-11-01T00:49:01.840386Z"
    }
   },
   "outputs": [
    {
     "data": {
      "text/html": [
       "<div>\n",
       "<style scoped>\n",
       "    .dataframe tbody tr th:only-of-type {\n",
       "        vertical-align: middle;\n",
       "    }\n",
       "\n",
       "    .dataframe tbody tr th {\n",
       "        vertical-align: top;\n",
       "    }\n",
       "\n",
       "    .dataframe thead th {\n",
       "        text-align: right;\n",
       "    }\n",
       "</style>\n",
       "<table border=\"1\" class=\"dataframe\">\n",
       "  <thead>\n",
       "    <tr style=\"text-align: right;\">\n",
       "      <th></th>\n",
       "      <th>Nombre</th>\n",
       "      <th>Edad</th>\n",
       "      <th>Ciudad</th>\n",
       "    </tr>\n",
       "  </thead>\n",
       "  <tbody>\n",
       "    <tr>\n",
       "      <th>1</th>\n",
       "      <td>Luis</td>\n",
       "      <td>21</td>\n",
       "      <td>Barcelona</td>\n",
       "    </tr>\n",
       "    <tr>\n",
       "      <th>2</th>\n",
       "      <td>Maria</td>\n",
       "      <td>22</td>\n",
       "      <td>Valencia</td>\n",
       "    </tr>\n",
       "    <tr>\n",
       "      <th>3</th>\n",
       "      <td>Juan</td>\n",
       "      <td>24</td>\n",
       "      <td>Sevilla</td>\n",
       "    </tr>\n",
       "  </tbody>\n",
       "</table>\n",
       "</div>"
      ],
      "text/plain": [
       "  Nombre  Edad     Ciudad\n",
       "1   Luis    21  Barcelona\n",
       "2  Maria    22   Valencia\n",
       "3   Juan    24    Sevilla"
      ]
     },
     "execution_count": 73,
     "metadata": {},
     "output_type": "execute_result"
    }
   ],
   "source": [
    "# Muestra los ultimos n registros de un DataFrame\n",
    "df.tail(3)"
   ]
  },
  {
   "cell_type": "code",
   "execution_count": 76,
   "id": "f4acac9c",
   "metadata": {
    "ExecuteTime": {
     "end_time": "2024-11-01T00:54:45.425245Z",
     "start_time": "2024-11-01T00:54:45.415235Z"
    }
   },
   "outputs": [
    {
     "data": {
      "text/plain": [
       "array(['Madrid', 'Barcelona', 'Valencia', 'Sevilla'], dtype=object)"
      ]
     },
     "execution_count": 76,
     "metadata": {},
     "output_type": "execute_result"
    }
   ],
   "source": [
    "df.Ciudad.unique()"
   ]
  },
  {
   "cell_type": "code",
   "execution_count": 79,
   "id": "4c6b8359",
   "metadata": {
    "ExecuteTime": {
     "end_time": "2024-11-01T00:58:28.671112Z",
     "start_time": "2024-11-01T00:58:28.646110Z"
    }
   },
   "outputs": [],
   "source": [
    "df_dummie = pd.get_dummies(df, columns=['Nombre','Ciudad'])"
   ]
  },
  {
   "cell_type": "code",
   "execution_count": 80,
   "id": "3be99f9b",
   "metadata": {
    "ExecuteTime": {
     "end_time": "2024-11-01T00:58:36.992594Z",
     "start_time": "2024-11-01T00:58:36.966481Z"
    }
   },
   "outputs": [
    {
     "data": {
      "text/html": [
       "<div>\n",
       "<style scoped>\n",
       "    .dataframe tbody tr th:only-of-type {\n",
       "        vertical-align: middle;\n",
       "    }\n",
       "\n",
       "    .dataframe tbody tr th {\n",
       "        vertical-align: top;\n",
       "    }\n",
       "\n",
       "    .dataframe thead th {\n",
       "        text-align: right;\n",
       "    }\n",
       "</style>\n",
       "<table border=\"1\" class=\"dataframe\">\n",
       "  <thead>\n",
       "    <tr style=\"text-align: right;\">\n",
       "      <th></th>\n",
       "      <th>Edad</th>\n",
       "      <th>Nombre_Ana</th>\n",
       "      <th>Nombre_Juan</th>\n",
       "      <th>Nombre_Luis</th>\n",
       "      <th>Nombre_Maria</th>\n",
       "      <th>Ciudad_Barcelona</th>\n",
       "      <th>Ciudad_Madrid</th>\n",
       "      <th>Ciudad_Sevilla</th>\n",
       "      <th>Ciudad_Valencia</th>\n",
       "    </tr>\n",
       "  </thead>\n",
       "  <tbody>\n",
       "    <tr>\n",
       "      <th>0</th>\n",
       "      <td>23</td>\n",
       "      <td>True</td>\n",
       "      <td>False</td>\n",
       "      <td>False</td>\n",
       "      <td>False</td>\n",
       "      <td>False</td>\n",
       "      <td>True</td>\n",
       "      <td>False</td>\n",
       "      <td>False</td>\n",
       "    </tr>\n",
       "    <tr>\n",
       "      <th>1</th>\n",
       "      <td>21</td>\n",
       "      <td>False</td>\n",
       "      <td>False</td>\n",
       "      <td>True</td>\n",
       "      <td>False</td>\n",
       "      <td>True</td>\n",
       "      <td>False</td>\n",
       "      <td>False</td>\n",
       "      <td>False</td>\n",
       "    </tr>\n",
       "    <tr>\n",
       "      <th>2</th>\n",
       "      <td>22</td>\n",
       "      <td>False</td>\n",
       "      <td>False</td>\n",
       "      <td>False</td>\n",
       "      <td>True</td>\n",
       "      <td>False</td>\n",
       "      <td>False</td>\n",
       "      <td>False</td>\n",
       "      <td>True</td>\n",
       "    </tr>\n",
       "    <tr>\n",
       "      <th>3</th>\n",
       "      <td>24</td>\n",
       "      <td>False</td>\n",
       "      <td>True</td>\n",
       "      <td>False</td>\n",
       "      <td>False</td>\n",
       "      <td>False</td>\n",
       "      <td>False</td>\n",
       "      <td>True</td>\n",
       "      <td>False</td>\n",
       "    </tr>\n",
       "  </tbody>\n",
       "</table>\n",
       "</div>"
      ],
      "text/plain": [
       "   Edad  Nombre_Ana  Nombre_Juan  Nombre_Luis  Nombre_Maria  Ciudad_Barcelona  \\\n",
       "0    23        True        False        False         False             False   \n",
       "1    21       False        False         True         False              True   \n",
       "2    22       False        False        False          True             False   \n",
       "3    24       False         True        False         False             False   \n",
       "\n",
       "   Ciudad_Madrid  Ciudad_Sevilla  Ciudad_Valencia  \n",
       "0           True           False            False  \n",
       "1          False           False            False  \n",
       "2          False           False             True  \n",
       "3          False            True            False  "
      ]
     },
     "execution_count": 80,
     "metadata": {},
     "output_type": "execute_result"
    }
   ],
   "source": [
    "df_dummie.head()"
   ]
  },
  {
   "cell_type": "code",
   "execution_count": 81,
   "id": "a47167bd",
   "metadata": {
    "ExecuteTime": {
     "end_time": "2024-11-01T01:01:08.672878Z",
     "start_time": "2024-11-01T01:01:08.605903Z"
    }
   },
   "outputs": [],
   "source": [
    "df_dummie['ana_barcelona'] = df_dummie.Nombre_Ana + df_dummie.Ciudad_Barcelona"
   ]
  },
  {
   "cell_type": "code",
   "execution_count": 82,
   "id": "5770f17c",
   "metadata": {
    "ExecuteTime": {
     "end_time": "2024-11-01T01:01:16.981808Z",
     "start_time": "2024-11-01T01:01:16.929123Z"
    }
   },
   "outputs": [
    {
     "data": {
      "text/html": [
       "<div>\n",
       "<style scoped>\n",
       "    .dataframe tbody tr th:only-of-type {\n",
       "        vertical-align: middle;\n",
       "    }\n",
       "\n",
       "    .dataframe tbody tr th {\n",
       "        vertical-align: top;\n",
       "    }\n",
       "\n",
       "    .dataframe thead th {\n",
       "        text-align: right;\n",
       "    }\n",
       "</style>\n",
       "<table border=\"1\" class=\"dataframe\">\n",
       "  <thead>\n",
       "    <tr style=\"text-align: right;\">\n",
       "      <th></th>\n",
       "      <th>Edad</th>\n",
       "      <th>Nombre_Ana</th>\n",
       "      <th>Nombre_Juan</th>\n",
       "      <th>Nombre_Luis</th>\n",
       "      <th>Nombre_Maria</th>\n",
       "      <th>Ciudad_Barcelona</th>\n",
       "      <th>Ciudad_Madrid</th>\n",
       "      <th>Ciudad_Sevilla</th>\n",
       "      <th>Ciudad_Valencia</th>\n",
       "      <th>ana_barcelona</th>\n",
       "    </tr>\n",
       "  </thead>\n",
       "  <tbody>\n",
       "    <tr>\n",
       "      <th>0</th>\n",
       "      <td>23</td>\n",
       "      <td>True</td>\n",
       "      <td>False</td>\n",
       "      <td>False</td>\n",
       "      <td>False</td>\n",
       "      <td>False</td>\n",
       "      <td>True</td>\n",
       "      <td>False</td>\n",
       "      <td>False</td>\n",
       "      <td>True</td>\n",
       "    </tr>\n",
       "    <tr>\n",
       "      <th>1</th>\n",
       "      <td>21</td>\n",
       "      <td>False</td>\n",
       "      <td>False</td>\n",
       "      <td>True</td>\n",
       "      <td>False</td>\n",
       "      <td>True</td>\n",
       "      <td>False</td>\n",
       "      <td>False</td>\n",
       "      <td>False</td>\n",
       "      <td>True</td>\n",
       "    </tr>\n",
       "    <tr>\n",
       "      <th>2</th>\n",
       "      <td>22</td>\n",
       "      <td>False</td>\n",
       "      <td>False</td>\n",
       "      <td>False</td>\n",
       "      <td>True</td>\n",
       "      <td>False</td>\n",
       "      <td>False</td>\n",
       "      <td>False</td>\n",
       "      <td>True</td>\n",
       "      <td>False</td>\n",
       "    </tr>\n",
       "    <tr>\n",
       "      <th>3</th>\n",
       "      <td>24</td>\n",
       "      <td>False</td>\n",
       "      <td>True</td>\n",
       "      <td>False</td>\n",
       "      <td>False</td>\n",
       "      <td>False</td>\n",
       "      <td>False</td>\n",
       "      <td>True</td>\n",
       "      <td>False</td>\n",
       "      <td>False</td>\n",
       "    </tr>\n",
       "  </tbody>\n",
       "</table>\n",
       "</div>"
      ],
      "text/plain": [
       "   Edad  Nombre_Ana  Nombre_Juan  Nombre_Luis  Nombre_Maria  Ciudad_Barcelona  \\\n",
       "0    23        True        False        False         False             False   \n",
       "1    21       False        False         True         False              True   \n",
       "2    22       False        False        False          True             False   \n",
       "3    24       False         True        False         False             False   \n",
       "\n",
       "   Ciudad_Madrid  Ciudad_Sevilla  Ciudad_Valencia  ana_barcelona  \n",
       "0           True           False            False           True  \n",
       "1          False           False            False           True  \n",
       "2          False           False             True          False  \n",
       "3          False            True            False          False  "
      ]
     },
     "execution_count": 82,
     "metadata": {},
     "output_type": "execute_result"
    }
   ],
   "source": [
    "df_dummie.head()"
   ]
  },
  {
   "cell_type": "code",
   "execution_count": 83,
   "id": "c03f2eed",
   "metadata": {
    "ExecuteTime": {
     "end_time": "2024-11-01T01:02:07.051925Z",
     "start_time": "2024-11-01T01:02:07.001838Z"
    }
   },
   "outputs": [
    {
     "name": "stdout",
     "output_type": "stream",
     "text": [
      "<class 'pandas.core.frame.DataFrame'>\n",
      "RangeIndex: 4 entries, 0 to 3\n",
      "Data columns (total 10 columns):\n",
      " #   Column            Non-Null Count  Dtype\n",
      "---  ------            --------------  -----\n",
      " 0   Edad              4 non-null      int64\n",
      " 1   Nombre_Ana        4 non-null      bool \n",
      " 2   Nombre_Juan       4 non-null      bool \n",
      " 3   Nombre_Luis       4 non-null      bool \n",
      " 4   Nombre_Maria      4 non-null      bool \n",
      " 5   Ciudad_Barcelona  4 non-null      bool \n",
      " 6   Ciudad_Madrid     4 non-null      bool \n",
      " 7   Ciudad_Sevilla    4 non-null      bool \n",
      " 8   Ciudad_Valencia   4 non-null      bool \n",
      " 9   ana_barcelona     4 non-null      bool \n",
      "dtypes: bool(9), int64(1)\n",
      "memory usage: 196.0 bytes\n"
     ]
    }
   ],
   "source": [
    "df_dummie.info()"
   ]
  },
  {
   "cell_type": "code",
   "execution_count": 85,
   "id": "53474c5a",
   "metadata": {
    "ExecuteTime": {
     "end_time": "2024-11-01T01:02:58.415999Z",
     "start_time": "2024-11-01T01:02:58.360009Z"
    }
   },
   "outputs": [
    {
     "data": {
      "text/html": [
       "<div>\n",
       "<style scoped>\n",
       "    .dataframe tbody tr th:only-of-type {\n",
       "        vertical-align: middle;\n",
       "    }\n",
       "\n",
       "    .dataframe tbody tr th {\n",
       "        vertical-align: top;\n",
       "    }\n",
       "\n",
       "    .dataframe thead th {\n",
       "        text-align: right;\n",
       "    }\n",
       "</style>\n",
       "<table border=\"1\" class=\"dataframe\">\n",
       "  <thead>\n",
       "    <tr style=\"text-align: right;\">\n",
       "      <th></th>\n",
       "      <th>Edad</th>\n",
       "      <th>Nombre_Ana</th>\n",
       "      <th>Nombre_Juan</th>\n",
       "      <th>Nombre_Luis</th>\n",
       "      <th>Nombre_Maria</th>\n",
       "      <th>Ciudad_Barcelona</th>\n",
       "      <th>Ciudad_Madrid</th>\n",
       "      <th>Ciudad_Sevilla</th>\n",
       "      <th>Ciudad_Valencia</th>\n",
       "      <th>ana_barcelona</th>\n",
       "    </tr>\n",
       "  </thead>\n",
       "  <tbody>\n",
       "    <tr>\n",
       "      <th>count</th>\n",
       "      <td>4.000000</td>\n",
       "      <td>4</td>\n",
       "      <td>4</td>\n",
       "      <td>4</td>\n",
       "      <td>4</td>\n",
       "      <td>4</td>\n",
       "      <td>4</td>\n",
       "      <td>4</td>\n",
       "      <td>4</td>\n",
       "      <td>4</td>\n",
       "    </tr>\n",
       "    <tr>\n",
       "      <th>unique</th>\n",
       "      <td>NaN</td>\n",
       "      <td>2</td>\n",
       "      <td>2</td>\n",
       "      <td>2</td>\n",
       "      <td>2</td>\n",
       "      <td>2</td>\n",
       "      <td>2</td>\n",
       "      <td>2</td>\n",
       "      <td>2</td>\n",
       "      <td>2</td>\n",
       "    </tr>\n",
       "    <tr>\n",
       "      <th>top</th>\n",
       "      <td>NaN</td>\n",
       "      <td>False</td>\n",
       "      <td>False</td>\n",
       "      <td>False</td>\n",
       "      <td>False</td>\n",
       "      <td>False</td>\n",
       "      <td>False</td>\n",
       "      <td>False</td>\n",
       "      <td>False</td>\n",
       "      <td>True</td>\n",
       "    </tr>\n",
       "    <tr>\n",
       "      <th>freq</th>\n",
       "      <td>NaN</td>\n",
       "      <td>3</td>\n",
       "      <td>3</td>\n",
       "      <td>3</td>\n",
       "      <td>3</td>\n",
       "      <td>3</td>\n",
       "      <td>3</td>\n",
       "      <td>3</td>\n",
       "      <td>3</td>\n",
       "      <td>2</td>\n",
       "    </tr>\n",
       "    <tr>\n",
       "      <th>mean</th>\n",
       "      <td>22.500000</td>\n",
       "      <td>NaN</td>\n",
       "      <td>NaN</td>\n",
       "      <td>NaN</td>\n",
       "      <td>NaN</td>\n",
       "      <td>NaN</td>\n",
       "      <td>NaN</td>\n",
       "      <td>NaN</td>\n",
       "      <td>NaN</td>\n",
       "      <td>NaN</td>\n",
       "    </tr>\n",
       "    <tr>\n",
       "      <th>std</th>\n",
       "      <td>1.290994</td>\n",
       "      <td>NaN</td>\n",
       "      <td>NaN</td>\n",
       "      <td>NaN</td>\n",
       "      <td>NaN</td>\n",
       "      <td>NaN</td>\n",
       "      <td>NaN</td>\n",
       "      <td>NaN</td>\n",
       "      <td>NaN</td>\n",
       "      <td>NaN</td>\n",
       "    </tr>\n",
       "    <tr>\n",
       "      <th>min</th>\n",
       "      <td>21.000000</td>\n",
       "      <td>NaN</td>\n",
       "      <td>NaN</td>\n",
       "      <td>NaN</td>\n",
       "      <td>NaN</td>\n",
       "      <td>NaN</td>\n",
       "      <td>NaN</td>\n",
       "      <td>NaN</td>\n",
       "      <td>NaN</td>\n",
       "      <td>NaN</td>\n",
       "    </tr>\n",
       "    <tr>\n",
       "      <th>25%</th>\n",
       "      <td>21.750000</td>\n",
       "      <td>NaN</td>\n",
       "      <td>NaN</td>\n",
       "      <td>NaN</td>\n",
       "      <td>NaN</td>\n",
       "      <td>NaN</td>\n",
       "      <td>NaN</td>\n",
       "      <td>NaN</td>\n",
       "      <td>NaN</td>\n",
       "      <td>NaN</td>\n",
       "    </tr>\n",
       "    <tr>\n",
       "      <th>50%</th>\n",
       "      <td>22.500000</td>\n",
       "      <td>NaN</td>\n",
       "      <td>NaN</td>\n",
       "      <td>NaN</td>\n",
       "      <td>NaN</td>\n",
       "      <td>NaN</td>\n",
       "      <td>NaN</td>\n",
       "      <td>NaN</td>\n",
       "      <td>NaN</td>\n",
       "      <td>NaN</td>\n",
       "    </tr>\n",
       "    <tr>\n",
       "      <th>75%</th>\n",
       "      <td>23.250000</td>\n",
       "      <td>NaN</td>\n",
       "      <td>NaN</td>\n",
       "      <td>NaN</td>\n",
       "      <td>NaN</td>\n",
       "      <td>NaN</td>\n",
       "      <td>NaN</td>\n",
       "      <td>NaN</td>\n",
       "      <td>NaN</td>\n",
       "      <td>NaN</td>\n",
       "    </tr>\n",
       "    <tr>\n",
       "      <th>max</th>\n",
       "      <td>24.000000</td>\n",
       "      <td>NaN</td>\n",
       "      <td>NaN</td>\n",
       "      <td>NaN</td>\n",
       "      <td>NaN</td>\n",
       "      <td>NaN</td>\n",
       "      <td>NaN</td>\n",
       "      <td>NaN</td>\n",
       "      <td>NaN</td>\n",
       "      <td>NaN</td>\n",
       "    </tr>\n",
       "  </tbody>\n",
       "</table>\n",
       "</div>"
      ],
      "text/plain": [
       "             Edad Nombre_Ana Nombre_Juan Nombre_Luis Nombre_Maria  \\\n",
       "count    4.000000          4           4           4            4   \n",
       "unique        NaN          2           2           2            2   \n",
       "top           NaN      False       False       False        False   \n",
       "freq          NaN          3           3           3            3   \n",
       "mean    22.500000        NaN         NaN         NaN          NaN   \n",
       "std      1.290994        NaN         NaN         NaN          NaN   \n",
       "min     21.000000        NaN         NaN         NaN          NaN   \n",
       "25%     21.750000        NaN         NaN         NaN          NaN   \n",
       "50%     22.500000        NaN         NaN         NaN          NaN   \n",
       "75%     23.250000        NaN         NaN         NaN          NaN   \n",
       "max     24.000000        NaN         NaN         NaN          NaN   \n",
       "\n",
       "       Ciudad_Barcelona Ciudad_Madrid Ciudad_Sevilla Ciudad_Valencia  \\\n",
       "count                 4             4              4               4   \n",
       "unique                2             2              2               2   \n",
       "top               False         False          False           False   \n",
       "freq                  3             3              3               3   \n",
       "mean                NaN           NaN            NaN             NaN   \n",
       "std                 NaN           NaN            NaN             NaN   \n",
       "min                 NaN           NaN            NaN             NaN   \n",
       "25%                 NaN           NaN            NaN             NaN   \n",
       "50%                 NaN           NaN            NaN             NaN   \n",
       "75%                 NaN           NaN            NaN             NaN   \n",
       "max                 NaN           NaN            NaN             NaN   \n",
       "\n",
       "       ana_barcelona  \n",
       "count              4  \n",
       "unique             2  \n",
       "top             True  \n",
       "freq               2  \n",
       "mean             NaN  \n",
       "std              NaN  \n",
       "min              NaN  \n",
       "25%              NaN  \n",
       "50%              NaN  \n",
       "75%              NaN  \n",
       "max              NaN  "
      ]
     },
     "execution_count": 85,
     "metadata": {},
     "output_type": "execute_result"
    }
   ],
   "source": [
    "df_dummie.describe(include='all')"
   ]
  },
  {
   "cell_type": "code",
   "execution_count": null,
   "id": "52de2750",
   "metadata": {},
   "outputs": [],
   "source": []
  }
 ],
 "metadata": {
  "kernelspec": {
   "display_name": "Python 3 (ipykernel)",
   "language": "python",
   "name": "python3"
  },
  "language_info": {
   "codemirror_mode": {
    "name": "ipython",
    "version": 3
   },
   "file_extension": ".py",
   "mimetype": "text/x-python",
   "name": "python",
   "nbconvert_exporter": "python",
   "pygments_lexer": "ipython3",
   "version": "3.9.12"
  },
  "nbTranslate": {
   "displayLangs": [
    "*"
   ],
   "hotkey": "alt-t",
   "langInMainMenu": true,
   "sourceLang": "en",
   "targetLang": "fr",
   "useGoogleTranslate": true
  },
  "toc": {
   "base_numbering": 1,
   "nav_menu": {},
   "number_sections": true,
   "sideBar": true,
   "skip_h1_title": false,
   "title_cell": "Table of Contents",
   "title_sidebar": "Contents",
   "toc_cell": false,
   "toc_position": {},
   "toc_section_display": true,
   "toc_window_display": false
  }
 },
 "nbformat": 4,
 "nbformat_minor": 5
}
