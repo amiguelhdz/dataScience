{
 "cells": [
  {
   "cell_type": "markdown",
   "id": "31800fbb",
   "metadata": {},
   "source": [
    "# Clasificador de tejido sano y tejido cancerígeno en imágenes microscópicas del esófago\n"
   ]
  },
  {
   "cell_type": "markdown",
   "id": "78a48e38",
   "metadata": {},
   "source": [
    "# Librerias"
   ]
  },
  {
   "cell_type": "code",
   "execution_count": 3,
   "id": "cabcfeb9",
   "metadata": {
    "ExecuteTime": {
     "end_time": "2024-11-05T05:01:42.174156Z",
     "start_time": "2024-11-05T05:01:42.161166Z"
    }
   },
   "outputs": [],
   "source": [
    "import warnings\n",
    "warnings.filterwarnings(action='ignore')\n",
    "import random\n",
    "import pickle\n",
    "import numpy as np\n",
    "import pandas as pd\n",
    "from skimage.io import imshow, imread\n",
    "from sklearn.model_selection import train_test_split\n",
    "from sklearn.linear_model import Perceptron\n",
    "import matplotlib.pyplot as plt\n",
    "import seaborn as sns\n",
    "import os"
   ]
  },
  {
   "cell_type": "code",
   "execution_count": 5,
   "id": "8fb9377e",
   "metadata": {
    "ExecuteTime": {
     "end_time": "2024-11-05T05:03:41.256775Z",
     "start_time": "2024-11-05T05:03:41.244757Z"
    }
   },
   "outputs": [],
   "source": [
    "# Rutas\n",
    "pathDatos = os.path.join(os.path.pardir,'datos')"
   ]
  },
  {
   "cell_type": "code",
   "execution_count": 8,
   "id": "1dcc8448",
   "metadata": {
    "ExecuteTime": {
     "end_time": "2024-11-05T05:04:45.973171Z",
     "start_time": "2024-11-05T05:04:45.960212Z"
    }
   },
   "outputs": [],
   "source": [
    "# identificador de las imágenes y etiquetas\n",
    "dfids = pd.read_csv(os.path.join(pathDatos,'ClasesImagenes.csv'))"
   ]
  },
  {
   "cell_type": "code",
   "execution_count": 9,
   "id": "ca6a746f",
   "metadata": {
    "ExecuteTime": {
     "end_time": "2024-11-05T05:05:02.054487Z",
     "start_time": "2024-11-05T05:05:02.032330Z"
    }
   },
   "outputs": [
    {
     "data": {
      "text/html": [
       "<div>\n",
       "<style scoped>\n",
       "    .dataframe tbody tr th:only-of-type {\n",
       "        vertical-align: middle;\n",
       "    }\n",
       "\n",
       "    .dataframe tbody tr th {\n",
       "        vertical-align: top;\n",
       "    }\n",
       "\n",
       "    .dataframe thead th {\n",
       "        text-align: right;\n",
       "    }\n",
       "</style>\n",
       "<table border=\"1\" class=\"dataframe\">\n",
       "  <thead>\n",
       "    <tr style=\"text-align: right;\">\n",
       "      <th></th>\n",
       "      <th>image_filename</th>\n",
       "      <th>class_number</th>\n",
       "    </tr>\n",
       "  </thead>\n",
       "  <tbody>\n",
       "    <tr>\n",
       "      <th>0</th>\n",
       "      <td>im_4_0.png</td>\n",
       "      <td>0</td>\n",
       "    </tr>\n",
       "    <tr>\n",
       "      <th>1</th>\n",
       "      <td>im_21_0.png</td>\n",
       "      <td>0</td>\n",
       "    </tr>\n",
       "    <tr>\n",
       "      <th>2</th>\n",
       "      <td>im_9_0.png</td>\n",
       "      <td>0</td>\n",
       "    </tr>\n",
       "    <tr>\n",
       "      <th>3</th>\n",
       "      <td>im_8_0.png</td>\n",
       "      <td>0</td>\n",
       "    </tr>\n",
       "    <tr>\n",
       "      <th>4</th>\n",
       "      <td>im_15_0.png</td>\n",
       "      <td>0</td>\n",
       "    </tr>\n",
       "  </tbody>\n",
       "</table>\n",
       "</div>"
      ],
      "text/plain": [
       "  image_filename  class_number\n",
       "0     im_4_0.png             0\n",
       "1    im_21_0.png             0\n",
       "2     im_9_0.png             0\n",
       "3     im_8_0.png             0\n",
       "4    im_15_0.png             0"
      ]
     },
     "execution_count": 9,
     "metadata": {},
     "output_type": "execute_result"
    }
   ],
   "source": [
    "dfids.head()"
   ]
  },
  {
   "cell_type": "code",
   "execution_count": 10,
   "id": "e6ae48ff",
   "metadata": {
    "ExecuteTime": {
     "end_time": "2024-11-05T05:05:23.106499Z",
     "start_time": "2024-11-05T05:05:23.099463Z"
    }
   },
   "outputs": [
    {
     "data": {
      "text/plain": [
       "pandas.core.frame.DataFrame"
      ]
     },
     "execution_count": 10,
     "metadata": {},
     "output_type": "execute_result"
    }
   ],
   "source": [
    "type(dfids)"
   ]
  },
  {
   "cell_type": "code",
   "execution_count": 12,
   "id": "d4bc06a3",
   "metadata": {
    "ExecuteTime": {
     "end_time": "2024-11-05T05:06:14.279757Z",
     "start_time": "2024-11-05T05:06:14.262147Z"
    }
   },
   "outputs": [
    {
     "data": {
      "text/plain": [
       "(5063, 2)"
      ]
     },
     "execution_count": 12,
     "metadata": {},
     "output_type": "execute_result"
    }
   ],
   "source": [
    "# tamaño del FataFrame\n",
    "dfids.shape"
   ]
  },
  {
   "cell_type": "code",
   "execution_count": 13,
   "id": "ae45f029",
   "metadata": {
    "ExecuteTime": {
     "end_time": "2024-11-05T05:06:58.961630Z",
     "start_time": "2024-11-05T05:06:58.934640Z"
    }
   },
   "outputs": [
    {
     "data": {
      "text/plain": [
       "class_number\n",
       "1    3594\n",
       "0    1469\n",
       "Name: count, dtype: int64"
      ]
     },
     "execution_count": 13,
     "metadata": {},
     "output_type": "execute_result"
    }
   ],
   "source": [
    "# Imágenes por cada una de las clases\n",
    "dfids.class_number.value_counts()"
   ]
  },
  {
   "cell_type": "code",
   "execution_count": 14,
   "id": "fec199e9",
   "metadata": {
    "ExecuteTime": {
     "end_time": "2024-11-05T05:08:10.808101Z",
     "start_time": "2024-11-05T05:08:10.794105Z"
    }
   },
   "outputs": [],
   "source": [
    "# la columna class_number, es nuestra variable objetivo, la almacenaremos en un objeto de numpy\n",
    "y = dfids.class_number"
   ]
  },
  {
   "cell_type": "code",
   "execution_count": 16,
   "id": "b7bd46ad",
   "metadata": {
    "ExecuteTime": {
     "end_time": "2024-11-05T05:08:20.470575Z",
     "start_time": "2024-11-05T05:08:20.458239Z"
    }
   },
   "outputs": [
    {
     "data": {
      "text/plain": [
       "pandas.core.series.Series"
      ]
     },
     "execution_count": 16,
     "metadata": {},
     "output_type": "execute_result"
    }
   ],
   "source": [
    "type(y)"
   ]
  },
  {
   "cell_type": "code",
   "execution_count": null,
   "id": "4a330ff6",
   "metadata": {},
   "outputs": [],
   "source": []
  }
 ],
 "metadata": {
  "kernelspec": {
   "display_name": "Python 3 (ipykernel)",
   "language": "python",
   "name": "python3"
  },
  "language_info": {
   "codemirror_mode": {
    "name": "ipython",
    "version": 3
   },
   "file_extension": ".py",
   "mimetype": "text/x-python",
   "name": "python",
   "nbconvert_exporter": "python",
   "pygments_lexer": "ipython3",
   "version": "3.9.12"
  },
  "nbTranslate": {
   "displayLangs": [
    "*"
   ],
   "hotkey": "alt-t",
   "langInMainMenu": true,
   "sourceLang": "en",
   "targetLang": "fr",
   "useGoogleTranslate": true
  },
  "toc": {
   "base_numbering": 1,
   "nav_menu": {},
   "number_sections": true,
   "sideBar": true,
   "skip_h1_title": false,
   "title_cell": "Table of Contents",
   "title_sidebar": "Contents",
   "toc_cell": false,
   "toc_position": {},
   "toc_section_display": true,
   "toc_window_display": false
  }
 },
 "nbformat": 4,
 "nbformat_minor": 5
}
