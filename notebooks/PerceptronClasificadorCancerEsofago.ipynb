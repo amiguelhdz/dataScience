{
 "cells": [
  {
   "cell_type": "markdown",
   "id": "11fbe553",
   "metadata": {},
   "source": [
    "# Clasificador de tejido sano y tejido cancerígeno en imágenes microscópicas del esófago\n"
   ]
  },
  {
   "cell_type": "markdown",
   "id": "c022cd71",
   "metadata": {},
   "source": [
    "# Librerias"
   ]
  },
  {
   "cell_type": "code",
   "execution_count": 5,
   "id": "008a17f2",
   "metadata": {
    "ExecuteTime": {
     "end_time": "2024-11-07T00:05:42.882096Z",
     "start_time": "2024-11-07T00:05:20.695589Z"
    }
   },
   "outputs": [],
   "source": [
    "import warnings\n",
    "warnings.filterwarnings(action='ignore')\n",
    "import random\n",
    "import pickle\n",
    "import numpy as np\n",
    "import pandas as pd\n",
    "from skimage.io import imshow, imread\n",
    "from sklearn.model_selection import train_test_split\n",
    "from sklearn.linear_model import Perceptron\n",
    "import matplotlib.pyplot as plt\n",
    "import seaborn as sns\n",
    "import os\n",
    "import zipfile"
   ]
  },
  {
   "cell_type": "code",
   "execution_count": 6,
   "id": "7edda5c0",
   "metadata": {
    "ExecuteTime": {
     "end_time": "2024-11-07T00:05:42.897758Z",
     "start_time": "2024-11-07T00:05:42.887654Z"
    }
   },
   "outputs": [],
   "source": [
    "# Rutas\n",
    "pathDatos = os.path.join(os.path.pardir,'datos')"
   ]
  },
  {
   "cell_type": "code",
   "execution_count": 3,
   "id": "e6346e7a",
   "metadata": {
    "ExecuteTime": {
     "end_time": "2024-11-06T16:39:04.745202Z",
     "start_time": "2024-11-06T16:39:04.731016Z"
    }
   },
   "outputs": [],
   "source": [
    "# identificador de las imágenes y etiquetas\n",
    "dfids = pd.read_csv(os.path.join(pathDatos,'ClasesImagenes.csv'))"
   ]
  },
  {
   "cell_type": "code",
   "execution_count": 4,
   "id": "5f9feeaa",
   "metadata": {
    "ExecuteTime": {
     "end_time": "2024-11-06T16:39:04.761010Z",
     "start_time": "2024-11-06T16:39:04.746010Z"
    }
   },
   "outputs": [
    {
     "data": {
      "text/html": [
       "<div>\n",
       "<style scoped>\n",
       "    .dataframe tbody tr th:only-of-type {\n",
       "        vertical-align: middle;\n",
       "    }\n",
       "\n",
       "    .dataframe tbody tr th {\n",
       "        vertical-align: top;\n",
       "    }\n",
       "\n",
       "    .dataframe thead th {\n",
       "        text-align: right;\n",
       "    }\n",
       "</style>\n",
       "<table border=\"1\" class=\"dataframe\">\n",
       "  <thead>\n",
       "    <tr style=\"text-align: right;\">\n",
       "      <th></th>\n",
       "      <th>image_filename</th>\n",
       "      <th>class_number</th>\n",
       "    </tr>\n",
       "  </thead>\n",
       "  <tbody>\n",
       "    <tr>\n",
       "      <th>0</th>\n",
       "      <td>im_4_0.png</td>\n",
       "      <td>0</td>\n",
       "    </tr>\n",
       "    <tr>\n",
       "      <th>1</th>\n",
       "      <td>im_21_0.png</td>\n",
       "      <td>0</td>\n",
       "    </tr>\n",
       "    <tr>\n",
       "      <th>2</th>\n",
       "      <td>im_9_0.png</td>\n",
       "      <td>0</td>\n",
       "    </tr>\n",
       "    <tr>\n",
       "      <th>3</th>\n",
       "      <td>im_8_0.png</td>\n",
       "      <td>0</td>\n",
       "    </tr>\n",
       "    <tr>\n",
       "      <th>4</th>\n",
       "      <td>im_15_0.png</td>\n",
       "      <td>0</td>\n",
       "    </tr>\n",
       "  </tbody>\n",
       "</table>\n",
       "</div>"
      ],
      "text/plain": [
       "  image_filename  class_number\n",
       "0     im_4_0.png             0\n",
       "1    im_21_0.png             0\n",
       "2     im_9_0.png             0\n",
       "3     im_8_0.png             0\n",
       "4    im_15_0.png             0"
      ]
     },
     "execution_count": 4,
     "metadata": {},
     "output_type": "execute_result"
    }
   ],
   "source": [
    "dfids.head()"
   ]
  },
  {
   "cell_type": "code",
   "execution_count": 5,
   "id": "7d439416",
   "metadata": {
    "ExecuteTime": {
     "end_time": "2024-11-06T16:39:04.776199Z",
     "start_time": "2024-11-06T16:39:04.763011Z"
    }
   },
   "outputs": [
    {
     "data": {
      "text/plain": [
       "pandas.core.frame.DataFrame"
      ]
     },
     "execution_count": 5,
     "metadata": {},
     "output_type": "execute_result"
    }
   ],
   "source": [
    "type(dfids)"
   ]
  },
  {
   "cell_type": "code",
   "execution_count": 6,
   "id": "6fe744da",
   "metadata": {
    "ExecuteTime": {
     "end_time": "2024-11-06T16:39:04.791180Z",
     "start_time": "2024-11-06T16:39:04.779624Z"
    }
   },
   "outputs": [
    {
     "data": {
      "text/plain": [
       "(5063, 2)"
      ]
     },
     "execution_count": 6,
     "metadata": {},
     "output_type": "execute_result"
    }
   ],
   "source": [
    "# tamaño del FataFrame\n",
    "dfids.shape"
   ]
  },
  {
   "cell_type": "code",
   "execution_count": 7,
   "id": "2af5cb8d",
   "metadata": {
    "ExecuteTime": {
     "end_time": "2024-11-06T16:39:04.807184Z",
     "start_time": "2024-11-06T16:39:04.794183Z"
    }
   },
   "outputs": [
    {
     "data": {
      "text/plain": [
       "class_number\n",
       "1    3594\n",
       "0    1469\n",
       "Name: count, dtype: int64"
      ]
     },
     "execution_count": 7,
     "metadata": {},
     "output_type": "execute_result"
    }
   ],
   "source": [
    "# Imágenes por cada una de las clases\n",
    "dfids.class_number.value_counts()"
   ]
  },
  {
   "cell_type": "code",
   "execution_count": 8,
   "id": "f55163b2",
   "metadata": {
    "ExecuteTime": {
     "end_time": "2024-11-06T16:39:04.823331Z",
     "start_time": "2024-11-06T16:39:04.809184Z"
    }
   },
   "outputs": [],
   "source": [
    "# la columna class_number, es nuestra variable objetivo, la almacenaremos en un objeto de numpy\n",
    "y = dfids.class_number"
   ]
  },
  {
   "cell_type": "code",
   "execution_count": 9,
   "id": "e1a432ca",
   "metadata": {
    "ExecuteTime": {
     "end_time": "2024-11-06T16:39:04.839198Z",
     "start_time": "2024-11-06T16:39:04.825181Z"
    }
   },
   "outputs": [
    {
     "data": {
      "text/plain": [
       "pandas.core.series.Series"
      ]
     },
     "execution_count": 9,
     "metadata": {},
     "output_type": "execute_result"
    }
   ],
   "source": [
    "type(y)"
   ]
  },
  {
   "cell_type": "markdown",
   "id": "810689d1",
   "metadata": {},
   "source": [
    "## Extracción y lectura de las imágenes"
   ]
  },
  {
   "cell_type": "code",
   "execution_count": 10,
   "id": "76bb18f5",
   "metadata": {
    "ExecuteTime": {
     "end_time": "2024-11-06T16:39:24.220850Z",
     "start_time": "2024-11-06T16:39:04.842184Z"
    }
   },
   "outputs": [
    {
     "name": "stdout",
     "output_type": "stream",
     "text": [
      "Archivos descomprimidos exitosamente.\n"
     ]
    }
   ],
   "source": [
    "pathImagen = os.path.join(pathDatos,'CarpetaImagenes.zip')\n",
    "\n",
    "with zipfile.ZipFile(pathImagen, 'r') as zip_ref:\n",
    "    zip_ref.extractall(pathDatos)\n",
    "print(\"Archivos descomprimidos exitosamente.\")   "
   ]
  },
  {
   "cell_type": "markdown",
   "id": "92430aa2",
   "metadata": {},
   "source": [
    "# Exploración"
   ]
  },
  {
   "cell_type": "code",
   "execution_count": 11,
   "id": "3214cc92",
   "metadata": {
    "ExecuteTime": {
     "end_time": "2024-11-06T16:39:24.371073Z",
     "start_time": "2024-11-06T16:39:24.230337Z"
    }
   },
   "outputs": [],
   "source": [
    "imagenn = 'im_4_0.png'\n",
    "pathimagenn = os.path.join(pathDatos,imagenn)\n",
    "imag = imread(pathimagenn, as_gray=True)"
   ]
  },
  {
   "cell_type": "code",
   "execution_count": 12,
   "id": "d6f88d60",
   "metadata": {
    "ExecuteTime": {
     "end_time": "2024-11-06T16:39:24.415863Z",
     "start_time": "2024-11-06T16:39:24.382854Z"
    }
   },
   "outputs": [
    {
     "data": {
      "text/plain": [
       "numpy.ndarray"
      ]
     },
     "execution_count": 12,
     "metadata": {},
     "output_type": "execute_result"
    }
   ],
   "source": [
    "type(imag)"
   ]
  },
  {
   "cell_type": "code",
   "execution_count": 13,
   "id": "0d07d338",
   "metadata": {
    "ExecuteTime": {
     "end_time": "2024-11-06T16:39:24.487793Z",
     "start_time": "2024-11-06T16:39:24.428094Z"
    }
   },
   "outputs": [
    {
     "data": {
      "text/plain": [
       "(260, 260)"
      ]
     },
     "execution_count": 13,
     "metadata": {},
     "output_type": "execute_result"
    }
   ],
   "source": [
    "# Dimensiones de las imagenes\n",
    "imag.shape"
   ]
  },
  {
   "cell_type": "code",
   "execution_count": 14,
   "id": "eac232c2",
   "metadata": {
    "ExecuteTime": {
     "end_time": "2024-11-06T16:39:24.570345Z",
     "start_time": "2024-11-06T16:39:24.502005Z"
    }
   },
   "outputs": [
    {
     "data": {
      "text/plain": [
       "array([0.08322275, 0.08322275, 0.08322275, 0.08322275, 0.08322275,\n",
       "       0.08322275, 0.08322275, 0.08322275, 0.08322275, 0.08322275,\n",
       "       0.08322275, 0.08322275, 0.08322275, 0.08322275, 0.08322275,\n",
       "       0.08322275, 0.08322275, 0.08322275, 0.08322275, 0.08322275,\n",
       "       0.08322275, 0.08322275, 0.08322275, 0.08322275, 0.08322275,\n",
       "       0.08322275, 0.08322275, 0.08322275, 0.08322275, 0.08322275,\n",
       "       0.08322275, 0.08322275, 0.08322275, 0.08322275, 0.08322275,\n",
       "       0.08322275, 0.08322275, 0.08322275, 0.08322275, 0.08322275,\n",
       "       0.08322275, 0.08322275, 0.08322275, 0.08322275, 0.08322275,\n",
       "       0.08322275, 0.08322275, 0.08322275, 0.08322275, 0.08322275,\n",
       "       0.08322275, 0.08322275, 0.08322275, 0.08322275, 0.08322275,\n",
       "       0.08322275, 0.08322275, 0.08322275, 0.08322275, 0.08322275,\n",
       "       0.08322275, 0.08322275, 0.08322275, 0.08322275, 0.08322275,\n",
       "       0.08322275, 0.08322275, 0.08322275, 0.08322275, 0.08322275,\n",
       "       0.08322275, 0.08322275, 0.08322275, 0.08322275, 0.08322275,\n",
       "       0.08322275, 0.08322275, 0.08322275, 0.08322275, 0.08322275,\n",
       "       0.08322275, 0.08322275, 0.08322275, 0.08322275, 0.08322275,\n",
       "       0.08322275, 0.08322275, 0.08322275, 0.08322275, 0.08322275,\n",
       "       0.08322275, 0.08322275, 0.08322275, 0.08322275, 0.08322275,\n",
       "       0.08322275, 0.08322275, 0.08322275, 0.08322275, 0.08322275,\n",
       "       0.08322275, 0.08322275, 0.08322275, 0.08322275, 0.08322275,\n",
       "       0.08322275, 0.08322275, 0.08322275, 0.08322275, 0.08322275,\n",
       "       0.08322275, 0.08322275, 0.08322275, 0.08322275, 0.08322275,\n",
       "       0.08322275, 0.08322275, 0.08322275, 0.08322275, 0.08322275,\n",
       "       0.08322275, 0.08322275, 0.08322275, 0.08322275, 0.08322275,\n",
       "       0.08322275, 0.08322275, 0.08322275, 0.08322275, 0.08322275,\n",
       "       0.08322275, 0.08322275, 0.08322275, 0.08322275, 0.08322275,\n",
       "       0.08322275, 0.08322275, 0.08322275, 0.08322275, 0.08322275,\n",
       "       0.08322275, 0.08322275, 0.08322275, 0.08322275, 0.08322275,\n",
       "       0.08322275, 0.08322275, 0.08322275, 0.08322275, 0.08322275,\n",
       "       0.08322275, 0.08322275, 0.08322275, 0.08322275, 0.08322275,\n",
       "       0.08322275, 0.08322275, 0.08322275, 0.08322275, 0.08322275,\n",
       "       0.08322275, 0.08322275, 0.08322275, 0.08322275, 0.08322275,\n",
       "       0.08322275, 0.08322275, 0.08322275, 0.08322275, 0.08322275,\n",
       "       0.08322275, 0.08322275, 0.08322275, 0.08322275, 0.08322275,\n",
       "       0.08322275, 0.08322275, 0.08322275, 0.08322275, 0.08322275,\n",
       "       0.08322275, 0.08322275, 0.08322275, 0.08322275, 0.08322275,\n",
       "       0.08322275, 0.08322275, 0.08322275, 0.08322275, 0.08322275,\n",
       "       0.08322275, 0.08322275, 0.08322275, 0.08322275, 0.08322275,\n",
       "       0.08322275, 0.08322275, 0.08322275, 0.08322275, 0.08322275,\n",
       "       0.08322275, 0.08322275, 0.08322275, 0.08322275, 0.08322275,\n",
       "       0.08322275, 0.08322275, 0.08322275, 0.08322275, 0.08322275,\n",
       "       0.08322275, 0.08322275, 0.08322275, 0.08322275, 0.08322275,\n",
       "       0.08322275, 0.08322275, 0.08322275, 0.08322275, 0.08322275,\n",
       "       0.08322275, 0.08322275, 0.08322275, 0.08322275, 0.08322275,\n",
       "       0.08322275, 0.08322275, 0.08322275, 0.08322275, 0.08322275,\n",
       "       0.08322275, 0.08322275, 0.08322275, 0.08322275, 0.08322275,\n",
       "       0.08322275, 0.08322275, 0.08322275, 0.08322275, 0.08322275,\n",
       "       0.08322275, 0.08322275, 0.08322275, 0.08322275, 0.08322275,\n",
       "       0.08322275, 0.08322275, 0.08322275, 0.08322275, 0.08322275,\n",
       "       0.08322275, 0.08322275, 0.08322275, 0.08322275, 0.08322275,\n",
       "       0.08322275, 0.08322275, 0.08322275, 0.08322275, 0.08322275])"
      ]
     },
     "execution_count": 14,
     "metadata": {},
     "output_type": "execute_result"
    }
   ],
   "source": [
    "imag[0]"
   ]
  },
  {
   "cell_type": "code",
   "execution_count": 15,
   "id": "77a8701d",
   "metadata": {
    "ExecuteTime": {
     "end_time": "2024-11-06T16:39:24.633170Z",
     "start_time": "2024-11-06T16:39:24.591279Z"
    }
   },
   "outputs": [
    {
     "data": {
      "text/plain": [
       "array([[0.29998118, 0.29998118, 0.30278667, 0.30504157, 0.30784706,\n",
       "        0.30784706, 0.30784706, 0.31262471, 0.3154302 , 0.32246275,\n",
       "        0.32246275, 0.32526824, 0.32526824, 0.33032863, 0.33988392,\n",
       "        0.34185608, 0.34466157, 0.34972196, 0.35169412, 0.34691647],\n",
       "       [0.27947176, 0.28227725, 0.28424941, 0.29014314, 0.29211529,\n",
       "        0.29211529, 0.29520353, 0.29717569, 0.29998118, 0.30278667,\n",
       "        0.30278667, 0.30504157, 0.30504157, 0.31262471, 0.32049059,\n",
       "        0.32526824, 0.33032863, 0.33230078, 0.33032863, 0.33032863],\n",
       "       [0.26654549, 0.26654549, 0.27215647, 0.27721686, 0.27947176,\n",
       "        0.28424941, 0.28424941, 0.29014314, 0.29014314, 0.29014314,\n",
       "        0.29014314, 0.29211529, 0.29520353, 0.29717569, 0.29998118,\n",
       "        0.30784706, 0.3154302 , 0.3176851 , 0.32049059, 0.3154302 ],\n",
       "       [0.2614851 , 0.2614851 , 0.26345725, 0.26345725, 0.27215647,\n",
       "        0.27721686, 0.27721686, 0.27947176, 0.27947176, 0.27721686,\n",
       "        0.27721686, 0.27947176, 0.28227725, 0.28227725, 0.28424941,\n",
       "        0.29211529, 0.29998118, 0.30504157, 0.31262471, 0.30784706],\n",
       "       [0.25839686, 0.25839686, 0.25839686, 0.25839686, 0.2614851 ,\n",
       "        0.26654549, 0.26654549, 0.26654549, 0.26654549, 0.26654549,\n",
       "        0.26654549, 0.27215647, 0.27215647, 0.27441137, 0.27947176,\n",
       "        0.28424941, 0.29014314, 0.29717569, 0.30504157, 0.30504157],\n",
       "       [0.25559137, 0.25559137, 0.25559137, 0.25559137, 0.25839686,\n",
       "        0.2614851 , 0.2614851 , 0.2614851 , 0.2614851 , 0.2614851 ,\n",
       "        0.2614851 , 0.26345725, 0.26654549, 0.27215647, 0.27721686,\n",
       "        0.28227725, 0.29014314, 0.29520353, 0.30278667, 0.30278667],\n",
       "       [0.24744275, 0.24744275, 0.24744275, 0.24744275, 0.24744275,\n",
       "        0.24744275, 0.24744275, 0.24744275, 0.24744275, 0.25333647,\n",
       "        0.25559137, 0.25559137, 0.25839686, 0.2614851 , 0.26654549,\n",
       "        0.27441137, 0.27947176, 0.28424941, 0.29211529, 0.29211529],\n",
       "       [0.24547059, 0.24547059, 0.24547059, 0.24547059, 0.24238235,\n",
       "        0.24238235, 0.24238235, 0.24238235, 0.24238235, 0.24238235,\n",
       "        0.24547059, 0.24547059, 0.24744275, 0.24744275, 0.25333647,\n",
       "        0.25839686, 0.26345725, 0.27215647, 0.28227725, 0.27947176]])"
      ]
     },
     "execution_count": 15,
     "metadata": {},
     "output_type": "execute_result"
    }
   ],
   "source": [
    "# Exploramos el nivel de coloración de algunos de los pixeles de la imagen\n",
    "imag[72:80, 170:190]"
   ]
  },
  {
   "cell_type": "code",
   "execution_count": 16,
   "id": "ff534bb4",
   "metadata": {
    "ExecuteTime": {
     "end_time": "2024-11-06T16:39:26.420840Z",
     "start_time": "2024-11-06T16:39:24.652649Z"
    },
    "scrolled": true
   },
   "outputs": [
    {
     "data": {
      "text/plain": [
       "<matplotlib.image.AxesImage at 0x1c24c2ec4f0>"
      ]
     },
     "execution_count": 16,
     "metadata": {},
     "output_type": "execute_result"
    },
    {
     "data": {
      "image/png": "[encoded data removed]",
      "text/plain": [
       "<Figure size 432x288 with 1 Axes>"
      ]
     },
     "metadata": {
      "needs_background": "light"
     },
     "output_type": "display_data"
    }
   ],
   "source": [
    "imshow(imag)"
   ]
  },
  {
   "cell_type": "markdown",
   "id": "8bd17492",
   "metadata": {},
   "source": [
    "**Ahora vamos a hacer lo mismo para todas las imagenes**"
   ]
  },
  {
   "cell_type": "code",
   "execution_count": 18,
   "id": "5c86e403",
   "metadata": {
    "ExecuteTime": {
     "end_time": "2024-11-06T16:39:40.978067Z",
     "start_time": "2024-11-06T16:39:40.970079Z"
    }
   },
   "outputs": [
    {
     "data": {
      "text/plain": [
       "0          im_4_0.png\n",
       "1         im_21_0.png\n",
       "2          im_9_0.png\n",
       "3          im_8_0.png\n",
       "4         im_15_0.png\n",
       "            ...      \n",
       "5058    im_114_55.png\n",
       "5059      im_7_55.png\n",
       "5060     im_52_55.png\n",
       "5061     im_10_55.png\n",
       "5062    im_111_55.png\n",
       "Name: image_filename, Length: 5063, dtype: object"
      ]
     },
     "execution_count": 18,
     "metadata": {},
     "output_type": "execute_result"
    }
   ],
   "source": [
    "dfids['image_filename']"
   ]
  },
  {
   "cell_type": "code",
   "execution_count": 21,
   "id": "3e03bbb7",
   "metadata": {
    "ExecuteTime": {
     "end_time": "2024-11-06T16:44:53.364618Z",
     "start_time": "2024-11-06T16:43:54.548873Z"
    }
   },
   "outputs": [],
   "source": [
    "img = dfids['image_filename'].apply(lambda x: imread(os.path.join(pathDatos, x), as_gray=True))"
   ]
  },
  {
   "cell_type": "code",
   "execution_count": 22,
   "id": "ddf35609",
   "metadata": {
    "ExecuteTime": {
     "end_time": "2024-11-06T16:44:53.379793Z",
     "start_time": "2024-11-06T16:44:53.366615Z"
    }
   },
   "outputs": [
    {
     "data": {
      "text/plain": [
       "pandas.core.series.Series"
      ]
     },
     "execution_count": 22,
     "metadata": {},
     "output_type": "execute_result"
    }
   ],
   "source": [
    "type(img)"
   ]
  },
  {
   "cell_type": "code",
   "execution_count": 25,
   "id": "7e0427b1",
   "metadata": {
    "ExecuteTime": {
     "end_time": "2024-11-06T16:46:18.211241Z",
     "start_time": "2024-11-06T16:46:18.200242Z"
    }
   },
   "outputs": [
    {
     "name": "stdout",
     "output_type": "stream",
     "text": [
      "Help on function imread in module skimage.io._io:\n",
      "\n",
      "imread(fname, as_gray=False, plugin=None, **plugin_args)\n",
      "    Load an image from file.\n",
      "    \n",
      "    Parameters\n",
      "    ----------\n",
      "    fname : string\n",
      "        Image file name, e.g. ``test.jpg`` or URL.\n",
      "    as_gray : bool, optional\n",
      "        If True, convert color images to gray-scale (64-bit floats).\n",
      "        Images that are already in gray-scale format are not converted.\n",
      "    plugin : str, optional\n",
      "        Name of plugin to use.  By default, the different plugins are\n",
      "        tried (starting with imageio) until a suitable\n",
      "        candidate is found.  If not given and fname is a tiff file, the\n",
      "        tifffile plugin will be used.\n",
      "    \n",
      "    Other Parameters\n",
      "    ----------------\n",
      "    plugin_args : keywords\n",
      "        Passed to the given plugin.\n",
      "    \n",
      "    Returns\n",
      "    -------\n",
      "    img_array : ndarray\n",
      "        The different color bands/channels are stored in the\n",
      "        third dimension, such that a gray-image is MxN, an\n",
      "        RGB-image MxNx3 and an RGBA-image MxNx4.\n",
      "\n"
     ]
    }
   ],
   "source": [
    "help(imread)"
   ]
  },
  {
   "cell_type": "code",
   "execution_count": 24,
   "id": "7b672b91",
   "metadata": {
    "ExecuteTime": {
     "end_time": "2024-11-06T16:46:01.234269Z",
     "start_time": "2024-11-06T16:46:01.082723Z"
    }
   },
   "outputs": [
    {
     "data": {
      "text/plain": [
       "<matplotlib.image.AxesImage at 0x1c25b56fca0>"
      ]
     },
     "execution_count": 24,
     "metadata": {},
     "output_type": "execute_result"
    },
    {
     "data": {
      "image/png": "[encoded data removed]",
      "text/plain": [
       "<Figure size 432x288 with 1 Axes>"
      ]
     },
     "metadata": {
      "needs_background": "light"
     },
     "output_type": "display_data"
    }
   ],
   "source": [
    "imshow(img[10])"
   ]
  },
  {
   "cell_type": "markdown",
   "id": "6eaec0a8",
   "metadata": {},
   "source": [
    "- Dimensión 0: 260 renglones de pixeles de arriba a abajo\n",
    "- Dimensión 1: 260 columnas de pixeles de izquierda a derecha"
   ]
  },
  {
   "cell_type": "markdown",
   "id": "f1885c87",
   "metadata": {},
   "source": [
    "**Transformar imágenes en vectores**"
   ]
  },
  {
   "cell_type": "code",
   "execution_count": 27,
   "id": "9d3907a1",
   "metadata": {
    "ExecuteTime": {
     "end_time": "2024-11-06T16:51:09.436548Z",
     "start_time": "2024-11-06T16:51:09.420551Z"
    }
   },
   "outputs": [
    {
     "data": {
      "text/plain": [
       "(5063,)"
      ]
     },
     "execution_count": 27,
     "metadata": {},
     "output_type": "execute_result"
    }
   ],
   "source": [
    "# Cantidad de elementos en la serie\n",
    "img.shape"
   ]
  },
  {
   "cell_type": "code",
   "execution_count": 28,
   "id": "f386739a",
   "metadata": {
    "ExecuteTime": {
     "end_time": "2024-11-06T16:51:18.785623Z",
     "start_time": "2024-11-06T16:51:18.764985Z"
    }
   },
   "outputs": [
    {
     "data": {
      "text/plain": [
       "(260, 260)"
      ]
     },
     "execution_count": 28,
     "metadata": {},
     "output_type": "execute_result"
    }
   ],
   "source": [
    "# Cada elemento de mi secuencia es una matriz de 260 x 260\n",
    "img[3673].shape"
   ]
  },
  {
   "cell_type": "markdown",
   "id": "c8771d56",
   "metadata": {},
   "source": [
    "*Lo primero es transformar la secuencia de matrices img en una sola matriz*"
   ]
  },
  {
   "cell_type": "code",
   "execution_count": 29,
   "id": "4545d5c2",
   "metadata": {
    "ExecuteTime": {
     "end_time": "2024-11-06T16:51:35.071263Z",
     "start_time": "2024-11-06T16:51:33.931560Z"
    }
   },
   "outputs": [
    {
     "data": {
      "text/plain": [
       "(5063, 260, 260)"
      ]
     },
     "execution_count": 29,
     "metadata": {},
     "output_type": "execute_result"
    }
   ],
   "source": [
    "IMG = np.stack(img, axis=0)   # Toma una secuencia de matrices y las apila a lo largo\n",
    "                              # de un tercer eje para hacer una solo arreglo\n",
    "IMG.shape"
   ]
  },
  {
   "cell_type": "code",
   "execution_count": 30,
   "id": "e17fd8ba",
   "metadata": {
    "ExecuteTime": {
     "end_time": "2024-11-06T16:52:01.925409Z",
     "start_time": "2024-11-06T16:52:01.916895Z"
    }
   },
   "outputs": [
    {
     "data": {
      "text/plain": [
       "numpy.ndarray"
      ]
     },
     "execution_count": 30,
     "metadata": {},
     "output_type": "execute_result"
    }
   ],
   "source": [
    "type(IMG)"
   ]
  },
  {
   "cell_type": "markdown",
   "id": "98498e37",
   "metadata": {
    "ExecuteTime": {
     "end_time": "2024-11-06T16:52:20.909945Z",
     "start_time": "2024-11-06T16:52:20.859658Z"
    }
   },
   "source": [
    "Ahora aplanamos la matriz de 2D (260x260 pixeles) de cada imagen, para obtener un vector por imagen."
   ]
  },
  {
   "cell_type": "code",
   "execution_count": 34,
   "id": "6fff7d58",
   "metadata": {
    "ExecuteTime": {
     "end_time": "2024-11-06T16:54:12.239105Z",
     "start_time": "2024-11-06T16:54:12.219196Z"
    }
   },
   "outputs": [
    {
     "data": {
      "text/plain": [
       "(5063, 67600)"
      ]
     },
     "execution_count": 34,
     "metadata": {},
     "output_type": "execute_result"
    }
   ],
   "source": [
    "X = IMG.reshape(5063, 67600)\n",
    "X.shape"
   ]
  },
  {
   "cell_type": "code",
   "execution_count": 36,
   "id": "56f0388d",
   "metadata": {
    "ExecuteTime": {
     "end_time": "2024-11-06T16:54:27.569846Z",
     "start_time": "2024-11-06T16:54:27.548051Z"
    }
   },
   "outputs": [
    {
     "data": {
      "text/plain": [
       "numpy.ndarray"
      ]
     },
     "execution_count": 36,
     "metadata": {},
     "output_type": "execute_result"
    }
   ],
   "source": []
  },
  {
   "cell_type": "markdown",
   "id": "a122cb78",
   "metadata": {
    "ExecuteTime": {
     "end_time": "2024-11-07T00:02:33.190428Z",
     "start_time": "2024-11-07T00:02:33.157850Z"
    }
   },
   "source": [
    "**Visualizamos ejemplos de ambas clases de imagenes**"
   ]
  },
  {
   "cell_type": "code",
   "execution_count": 3,
   "id": "4feda99e",
   "metadata": {
    "ExecuteTime": {
     "end_time": "2024-11-07T00:05:09.628553Z",
     "start_time": "2024-11-07T00:05:09.520525Z"
    }
   },
   "outputs": [
    {
     "ename": "NameError",
     "evalue": "name 'dfids' is not defined",
     "output_type": "error",
     "traceback": [
      "\u001b[1;31m---------------------------------------------------------------------------\u001b[0m",
      "\u001b[1;31mNameError\u001b[0m                                 Traceback (most recent call last)",
      "Cell \u001b[1;32mIn[3], line 2\u001b[0m\n\u001b[0;32m      1\u001b[0m \u001b[38;5;66;03m# Agrupamos por nuestra variable objetivo\u001b[39;00m\n\u001b[1;32m----> 2\u001b[0m porClase \u001b[38;5;241m=\u001b[39m \u001b[43mdfids\u001b[49m\u001b[38;5;241m.\u001b[39mgroupby(\u001b[38;5;124m'\u001b[39m\u001b[38;5;124mclass_number\u001b[39m\u001b[38;5;124m'\u001b[39m)\n\u001b[0;32m      4\u001b[0m \u001b[38;5;66;03m# Elijimos al azar n muestras de cada subconjunto y guardamos la posición de las\u001b[39;00m\n\u001b[0;32m      5\u001b[0m \u001b[38;5;66;03m# imagenes cancerigenas en la lista \"c\" y en  \"s\" las de tejido sano.\u001b[39;00m\n\u001b[0;32m      6\u001b[0m n \u001b[38;5;241m=\u001b[39m \u001b[38;5;241m20\u001b[39m\n",
      "\u001b[1;31mNameError\u001b[0m: name 'dfids' is not defined"
     ]
    }
   ],
   "source": [
    "# Agrupamos por nuestra variable objetivo\n",
    "porClase = dfids.groupby('class_number')\n",
    "\n",
    "# Elijimos al azar n muestras de cada subconjunto y guardamos la posición de las\n",
    "# imagenes cancerigenas en la lista \"c\" y en  \"s\" las de tejido sano.\n",
    "n = 20\n",
    "c = random.sample(porClase.get_group(1).index.tolist(), n)\n",
    "s = random.sample(porClase.get_group(0).index.tolist(), n)\n",
    "\n",
    "\n",
    "# Creamos el espacio para las 40 imagenes que vamos a desplegar\n",
    "fig = plt.figure(figsize=(16, 8))\n",
    "columns = 10\n",
    "rows = 4\n",
    "\n",
    "# Desplegamos las imagenes\n",
    "for i in range(0, 40):\n",
    "    fig.add_subplot( rows, columns, i+1)\n",
    "    if i < 20:\n",
    "        plt.imshow(img[c[i]], cmap='Greys_r')\n",
    "        plt.title('cancer')\n",
    "        plt.xticks([])\n",
    "        plt.yticks([])\n",
    "    else:\n",
    "        plt.imshow(img[s[i-20]], cmap='Greys_r')\n",
    "        plt.title('tejido sano')\n",
    "        plt.xticks([])\n",
    "        plt.yticks([])\n",
    "plt.show()"
   ]
  },
  {
   "cell_type": "code",
   "execution_count": null,
   "id": "04f2b7a8",
   "metadata": {},
   "outputs": [],
   "source": []
  }
 ],
 "metadata": {
  "kernelspec": {
   "display_name": "Python 3 (ipykernel)",
   "language": "python",
   "name": "python3"
  },
  "language_info": {
   "codemirror_mode": {
    "name": "ipython",
    "version": 3
   },
   "file_extension": ".py",
   "mimetype": "text/x-python",
   "name": "python",
   "nbconvert_exporter": "python",
   "pygments_lexer": "ipython3",
   "version": "3.9.12"
  },
  "nbTranslate": {
   "displayLangs": [
    "*"
   ],
   "hotkey": "alt-t",
   "langInMainMenu": true,
   "sourceLang": "en",
   "targetLang": "fr",
   "useGoogleTranslate": true
  },
  "toc": {
   "base_numbering": 1,
   "nav_menu": {},
   "number_sections": true,
   "sideBar": true,
   "skip_h1_title": false,
   "title_cell": "Table of Contents",
   "title_sidebar": "Contents",
   "toc_cell": false,
   "toc_position": {},
   "toc_section_display": true,
   "toc_window_display": false
  }
 },
 "nbformat": 4,
 "nbformat_minor": 5
}
